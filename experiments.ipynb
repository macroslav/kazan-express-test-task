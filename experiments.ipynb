{
 "nbformat": 4,
 "nbformat_minor": 0,
 "metadata": {
  "colab": {
   "provenance": [],
   "toc_visible": true
  },
  "kernelspec": {
   "name": "python3",
   "display_name": "Python 3"
  },
  "language_info": {
   "name": "python"
  },
  "accelerator": "GPU",
  "gpuClass": "standard",
  "widgets": {
   "application/vnd.jupyter.widget-state+json": {
    "4a4737834e844c308e384c744afb4e55": {
     "model_module": "@jupyter-widgets/controls",
     "model_name": "HBoxModel",
     "model_module_version": "1.5.0",
     "state": {
      "_dom_classes": [],
      "_model_module": "@jupyter-widgets/controls",
      "_model_module_version": "1.5.0",
      "_model_name": "HBoxModel",
      "_view_count": null,
      "_view_module": "@jupyter-widgets/controls",
      "_view_module_version": "1.5.0",
      "_view_name": "HBoxView",
      "box_style": "",
      "children": [
       "IPY_MODEL_64193bef6da8421dbd1dd9bada7aa849",
       "IPY_MODEL_53fd2ab197f74987a0eb34c5ee51e7b0",
       "IPY_MODEL_bf13a950dada4f329a48c7d98db53d9b"
      ],
      "layout": "IPY_MODEL_cee22f973571421bbfc347ebafdea70b"
     }
    },
    "64193bef6da8421dbd1dd9bada7aa849": {
     "model_module": "@jupyter-widgets/controls",
     "model_name": "HTMLModel",
     "model_module_version": "1.5.0",
     "state": {
      "_dom_classes": [],
      "_model_module": "@jupyter-widgets/controls",
      "_model_module_version": "1.5.0",
      "_model_name": "HTMLModel",
      "_view_count": null,
      "_view_module": "@jupyter-widgets/controls",
      "_view_module_version": "1.5.0",
      "_view_name": "HTMLView",
      "description": "",
      "description_tooltip": null,
      "layout": "IPY_MODEL_e99a3cbf8a6f43779b0d8c88b8194b79",
      "placeholder": "​",
      "style": "IPY_MODEL_e975ed866a2847b6acd145aed627c5d7",
      "value": "100%"
     }
    },
    "53fd2ab197f74987a0eb34c5ee51e7b0": {
     "model_module": "@jupyter-widgets/controls",
     "model_name": "FloatProgressModel",
     "model_module_version": "1.5.0",
     "state": {
      "_dom_classes": [],
      "_model_module": "@jupyter-widgets/controls",
      "_model_module_version": "1.5.0",
      "_model_name": "FloatProgressModel",
      "_view_count": null,
      "_view_module": "@jupyter-widgets/controls",
      "_view_module_version": "1.5.0",
      "_view_name": "ProgressView",
      "bar_style": "success",
      "description": "",
      "description_tooltip": null,
      "layout": "IPY_MODEL_e95a9268252b4ea9b86c8fa8d7ea08a3",
      "max": 3370,
      "min": 0,
      "orientation": "horizontal",
      "style": "IPY_MODEL_78a96968cf774c55967ef8b1fd1aaf44",
      "value": 3370
     }
    },
    "bf13a950dada4f329a48c7d98db53d9b": {
     "model_module": "@jupyter-widgets/controls",
     "model_name": "HTMLModel",
     "model_module_version": "1.5.0",
     "state": {
      "_dom_classes": [],
      "_model_module": "@jupyter-widgets/controls",
      "_model_module_version": "1.5.0",
      "_model_name": "HTMLModel",
      "_view_count": null,
      "_view_module": "@jupyter-widgets/controls",
      "_view_module_version": "1.5.0",
      "_view_name": "HTMLView",
      "description": "",
      "description_tooltip": null,
      "layout": "IPY_MODEL_34857e202c8341b8bf0b4fab6395c637",
      "placeholder": "​",
      "style": "IPY_MODEL_a01ff58d52054e34b3e942b8bf4cfdd4",
      "value": " 3370/3370 [00:03&lt;00:00, 1092.79it/s]"
     }
    },
    "cee22f973571421bbfc347ebafdea70b": {
     "model_module": "@jupyter-widgets/base",
     "model_name": "LayoutModel",
     "model_module_version": "1.2.0",
     "state": {
      "_model_module": "@jupyter-widgets/base",
      "_model_module_version": "1.2.0",
      "_model_name": "LayoutModel",
      "_view_count": null,
      "_view_module": "@jupyter-widgets/base",
      "_view_module_version": "1.2.0",
      "_view_name": "LayoutView",
      "align_content": null,
      "align_items": null,
      "align_self": null,
      "border": null,
      "bottom": null,
      "display": null,
      "flex": null,
      "flex_flow": null,
      "grid_area": null,
      "grid_auto_columns": null,
      "grid_auto_flow": null,
      "grid_auto_rows": null,
      "grid_column": null,
      "grid_gap": null,
      "grid_row": null,
      "grid_template_areas": null,
      "grid_template_columns": null,
      "grid_template_rows": null,
      "height": null,
      "justify_content": null,
      "justify_items": null,
      "left": null,
      "margin": null,
      "max_height": null,
      "max_width": null,
      "min_height": null,
      "min_width": null,
      "object_fit": null,
      "object_position": null,
      "order": null,
      "overflow": null,
      "overflow_x": null,
      "overflow_y": null,
      "padding": null,
      "right": null,
      "top": null,
      "visibility": null,
      "width": null
     }
    },
    "e99a3cbf8a6f43779b0d8c88b8194b79": {
     "model_module": "@jupyter-widgets/base",
     "model_name": "LayoutModel",
     "model_module_version": "1.2.0",
     "state": {
      "_model_module": "@jupyter-widgets/base",
      "_model_module_version": "1.2.0",
      "_model_name": "LayoutModel",
      "_view_count": null,
      "_view_module": "@jupyter-widgets/base",
      "_view_module_version": "1.2.0",
      "_view_name": "LayoutView",
      "align_content": null,
      "align_items": null,
      "align_self": null,
      "border": null,
      "bottom": null,
      "display": null,
      "flex": null,
      "flex_flow": null,
      "grid_area": null,
      "grid_auto_columns": null,
      "grid_auto_flow": null,
      "grid_auto_rows": null,
      "grid_column": null,
      "grid_gap": null,
      "grid_row": null,
      "grid_template_areas": null,
      "grid_template_columns": null,
      "grid_template_rows": null,
      "height": null,
      "justify_content": null,
      "justify_items": null,
      "left": null,
      "margin": null,
      "max_height": null,
      "max_width": null,
      "min_height": null,
      "min_width": null,
      "object_fit": null,
      "object_position": null,
      "order": null,
      "overflow": null,
      "overflow_x": null,
      "overflow_y": null,
      "padding": null,
      "right": null,
      "top": null,
      "visibility": null,
      "width": null
     }
    },
    "e975ed866a2847b6acd145aed627c5d7": {
     "model_module": "@jupyter-widgets/controls",
     "model_name": "DescriptionStyleModel",
     "model_module_version": "1.5.0",
     "state": {
      "_model_module": "@jupyter-widgets/controls",
      "_model_module_version": "1.5.0",
      "_model_name": "DescriptionStyleModel",
      "_view_count": null,
      "_view_module": "@jupyter-widgets/base",
      "_view_module_version": "1.2.0",
      "_view_name": "StyleView",
      "description_width": ""
     }
    },
    "e95a9268252b4ea9b86c8fa8d7ea08a3": {
     "model_module": "@jupyter-widgets/base",
     "model_name": "LayoutModel",
     "model_module_version": "1.2.0",
     "state": {
      "_model_module": "@jupyter-widgets/base",
      "_model_module_version": "1.2.0",
      "_model_name": "LayoutModel",
      "_view_count": null,
      "_view_module": "@jupyter-widgets/base",
      "_view_module_version": "1.2.0",
      "_view_name": "LayoutView",
      "align_content": null,
      "align_items": null,
      "align_self": null,
      "border": null,
      "bottom": null,
      "display": null,
      "flex": null,
      "flex_flow": null,
      "grid_area": null,
      "grid_auto_columns": null,
      "grid_auto_flow": null,
      "grid_auto_rows": null,
      "grid_column": null,
      "grid_gap": null,
      "grid_row": null,
      "grid_template_areas": null,
      "grid_template_columns": null,
      "grid_template_rows": null,
      "height": null,
      "justify_content": null,
      "justify_items": null,
      "left": null,
      "margin": null,
      "max_height": null,
      "max_width": null,
      "min_height": null,
      "min_width": null,
      "object_fit": null,
      "object_position": null,
      "order": null,
      "overflow": null,
      "overflow_x": null,
      "overflow_y": null,
      "padding": null,
      "right": null,
      "top": null,
      "visibility": null,
      "width": null
     }
    },
    "78a96968cf774c55967ef8b1fd1aaf44": {
     "model_module": "@jupyter-widgets/controls",
     "model_name": "ProgressStyleModel",
     "model_module_version": "1.5.0",
     "state": {
      "_model_module": "@jupyter-widgets/controls",
      "_model_module_version": "1.5.0",
      "_model_name": "ProgressStyleModel",
      "_view_count": null,
      "_view_module": "@jupyter-widgets/base",
      "_view_module_version": "1.2.0",
      "_view_name": "StyleView",
      "bar_color": null,
      "description_width": ""
     }
    },
    "34857e202c8341b8bf0b4fab6395c637": {
     "model_module": "@jupyter-widgets/base",
     "model_name": "LayoutModel",
     "model_module_version": "1.2.0",
     "state": {
      "_model_module": "@jupyter-widgets/base",
      "_model_module_version": "1.2.0",
      "_model_name": "LayoutModel",
      "_view_count": null,
      "_view_module": "@jupyter-widgets/base",
      "_view_module_version": "1.2.0",
      "_view_name": "LayoutView",
      "align_content": null,
      "align_items": null,
      "align_self": null,
      "border": null,
      "bottom": null,
      "display": null,
      "flex": null,
      "flex_flow": null,
      "grid_area": null,
      "grid_auto_columns": null,
      "grid_auto_flow": null,
      "grid_auto_rows": null,
      "grid_column": null,
      "grid_gap": null,
      "grid_row": null,
      "grid_template_areas": null,
      "grid_template_columns": null,
      "grid_template_rows": null,
      "height": null,
      "justify_content": null,
      "justify_items": null,
      "left": null,
      "margin": null,
      "max_height": null,
      "max_width": null,
      "min_height": null,
      "min_width": null,
      "object_fit": null,
      "object_position": null,
      "order": null,
      "overflow": null,
      "overflow_x": null,
      "overflow_y": null,
      "padding": null,
      "right": null,
      "top": null,
      "visibility": null,
      "width": null
     }
    },
    "a01ff58d52054e34b3e942b8bf4cfdd4": {
     "model_module": "@jupyter-widgets/controls",
     "model_name": "DescriptionStyleModel",
     "model_module_version": "1.5.0",
     "state": {
      "_model_module": "@jupyter-widgets/controls",
      "_model_module_version": "1.5.0",
      "_model_name": "DescriptionStyleModel",
      "_view_count": null,
      "_view_module": "@jupyter-widgets/base",
      "_view_module_version": "1.2.0",
      "_view_name": "StyleView",
      "description_width": ""
     }
    }
   }
  }
 },
 "cells": [
  {
   "cell_type": "markdown",
   "source": [
    "# Imports"
   ],
   "metadata": {
    "id": "81D59G7xE31t"
   }
  },
  {
   "cell_type": "code",
   "source": [
    "from pathlib import Path\n",
    "from tqdm.notebook import tqdm_notebook\n",
    "\n",
    "import pandas as pd\n",
    "from sklearn.model_selection import train_test_split\n",
    "from sklearn.feature_extraction.text import CountVectorizer\n",
    "from sklearn.linear_model import LogisticRegression\n",
    "\n",
    "from src.metrics.metrics import hierarchical_f1_score\n",
    "from src.data_loaders.data_loaders import load_data\n",
    "from src.data_preprocessors.preprocessors import preprocess_data, fill_description_nans"
   ],
   "metadata": {
    "id": "CLwn64zUDf3P"
   },
   "execution_count": 57,
   "outputs": []
  },
  {
   "cell_type": "markdown",
   "source": [
    "# Load data"
   ],
   "metadata": {
    "id": "DYBlGrkLE5Zq"
   }
  },
  {
   "cell_type": "code",
   "source": [
    "data_dir = Path('data/raw')"
   ],
   "metadata": {
    "id": "cZCSS8YNDlsb"
   },
   "execution_count": 58,
   "outputs": []
  },
  {
   "cell_type": "code",
   "execution_count": 59,
   "outputs": [],
   "source": [
    "train_data, test_data, categories_data = load_data(data_dir=data_dir)"
   ],
   "metadata": {
    "collapsed": false
   }
  },
  {
   "cell_type": "code",
   "execution_count": 60,
   "outputs": [
    {
     "data": {
      "text/plain": "             id                                              title  \\\n0       1267423  Muhle Manikure Песочные колпачки для педикюра ...   \n1        128833                Sony Xperia L1 Защитное стекло 2,5D   \n2        569924     Конверт для денег Прекрасная роза, 16,5 х 8 см   \n3       1264824                                             Серьги   \n4       1339052  Наклейки на унитаз для туалета на крышку бачок...   \n...         ...                                                ...   \n283447   584544                      Эфирное масло аромамасло 20мл   \n283448  1229689                 Форма для выпечки печенья \"Орешки\"   \n283449   904913  Магнит символ Нового года-Тигренок/(по 3 шт в уп)   \n283450  1413201  Рифленный нож / слайсер для фигурной нарезки, ...   \n283451   129638          Набор воздушных шариков (5 шт в упаковке)   \n\n                                        short_description  \\\n0       Muhle Manikure Колпачок песочный шлифовальный ...   \n1                                                    None   \n2        Конверт для денег «Прекрасная роза», 16,5 × 8 см   \n3                                                    None   \n4       Водостойкая, интересная наклейка на унитаз раз...   \n...                                                   ...   \n283447  Аромамаркетинг – это мощный инструмент по созд...   \n283448      Орешки со сгущенкой, форма для приготовления.   \n283449                                               None   \n283450  Такими ножами удобно резать фрукты, овощи, сыр...   \n283451                                               None   \n\n                               name_value_characteristics    rating  \\\n0                                                    None  0.000000   \n1                                                    None  4.666667   \n2                                                    None  5.000000   \n3                                                    None  0.000000   \n4                                                    None  0.000000   \n...                                                   ...       ...   \n283447  Выберите аромат:Ваниль|Персик|Холл гостиницы|Н...  4.500000   \n283448                                               None  5.000000   \n283449                                               None  5.000000   \n283450                                      Вид:19,5х6 см  0.000000   \n283451                                               None  4.672414   \n\n        feedback_quantity  category_id  \n0                       0         2693  \n1                       9        13408  \n2                       6        11790  \n3                       0        14076  \n4                       0        12401  \n...                   ...          ...  \n283447                  6         2674  \n283448                  1        13554  \n283449                  1        11617  \n283450                  0        14030  \n283451                 58        12604  \n\n[283452 rows x 7 columns]",
      "text/html": "<div>\n<style scoped>\n    .dataframe tbody tr th:only-of-type {\n        vertical-align: middle;\n    }\n\n    .dataframe tbody tr th {\n        vertical-align: top;\n    }\n\n    .dataframe thead th {\n        text-align: right;\n    }\n</style>\n<table border=\"1\" class=\"dataframe\">\n  <thead>\n    <tr style=\"text-align: right;\">\n      <th></th>\n      <th>id</th>\n      <th>title</th>\n      <th>short_description</th>\n      <th>name_value_characteristics</th>\n      <th>rating</th>\n      <th>feedback_quantity</th>\n      <th>category_id</th>\n    </tr>\n  </thead>\n  <tbody>\n    <tr>\n      <th>0</th>\n      <td>1267423</td>\n      <td>Muhle Manikure Песочные колпачки для педикюра ...</td>\n      <td>Muhle Manikure Колпачок песочный шлифовальный ...</td>\n      <td>None</td>\n      <td>0.000000</td>\n      <td>0</td>\n      <td>2693</td>\n    </tr>\n    <tr>\n      <th>1</th>\n      <td>128833</td>\n      <td>Sony Xperia L1 Защитное стекло 2,5D</td>\n      <td>None</td>\n      <td>None</td>\n      <td>4.666667</td>\n      <td>9</td>\n      <td>13408</td>\n    </tr>\n    <tr>\n      <th>2</th>\n      <td>569924</td>\n      <td>Конверт для денег Прекрасная роза, 16,5 х 8 см</td>\n      <td>Конверт для денег «Прекрасная роза», 16,5 × 8 см</td>\n      <td>None</td>\n      <td>5.000000</td>\n      <td>6</td>\n      <td>11790</td>\n    </tr>\n    <tr>\n      <th>3</th>\n      <td>1264824</td>\n      <td>Серьги</td>\n      <td>None</td>\n      <td>None</td>\n      <td>0.000000</td>\n      <td>0</td>\n      <td>14076</td>\n    </tr>\n    <tr>\n      <th>4</th>\n      <td>1339052</td>\n      <td>Наклейки на унитаз для туалета на крышку бачок...</td>\n      <td>Водостойкая, интересная наклейка на унитаз раз...</td>\n      <td>None</td>\n      <td>0.000000</td>\n      <td>0</td>\n      <td>12401</td>\n    </tr>\n    <tr>\n      <th>...</th>\n      <td>...</td>\n      <td>...</td>\n      <td>...</td>\n      <td>...</td>\n      <td>...</td>\n      <td>...</td>\n      <td>...</td>\n    </tr>\n    <tr>\n      <th>283447</th>\n      <td>584544</td>\n      <td>Эфирное масло аромамасло 20мл</td>\n      <td>Аромамаркетинг – это мощный инструмент по созд...</td>\n      <td>Выберите аромат:Ваниль|Персик|Холл гостиницы|Н...</td>\n      <td>4.500000</td>\n      <td>6</td>\n      <td>2674</td>\n    </tr>\n    <tr>\n      <th>283448</th>\n      <td>1229689</td>\n      <td>Форма для выпечки печенья \"Орешки\"</td>\n      <td>Орешки со сгущенкой, форма для приготовления.</td>\n      <td>None</td>\n      <td>5.000000</td>\n      <td>1</td>\n      <td>13554</td>\n    </tr>\n    <tr>\n      <th>283449</th>\n      <td>904913</td>\n      <td>Магнит символ Нового года-Тигренок/(по 3 шт в уп)</td>\n      <td>None</td>\n      <td>None</td>\n      <td>5.000000</td>\n      <td>1</td>\n      <td>11617</td>\n    </tr>\n    <tr>\n      <th>283450</th>\n      <td>1413201</td>\n      <td>Рифленный нож / слайсер для фигурной нарезки, ...</td>\n      <td>Такими ножами удобно резать фрукты, овощи, сыр...</td>\n      <td>Вид:19,5х6 см</td>\n      <td>0.000000</td>\n      <td>0</td>\n      <td>14030</td>\n    </tr>\n    <tr>\n      <th>283451</th>\n      <td>129638</td>\n      <td>Набор воздушных шариков (5 шт в упаковке)</td>\n      <td>None</td>\n      <td>None</td>\n      <td>4.672414</td>\n      <td>58</td>\n      <td>12604</td>\n    </tr>\n  </tbody>\n</table>\n<p>283452 rows × 7 columns</p>\n</div>"
     },
     "execution_count": 60,
     "metadata": {},
     "output_type": "execute_result"
    }
   ],
   "source": [
    "train_data"
   ],
   "metadata": {
    "collapsed": false
   }
  },
  {
   "cell_type": "code",
   "execution_count": 61,
   "outputs": [
    {
     "data": {
      "text/plain": "            id                                              title  \\\n0      1070974                Браслет из натуральных камней LOTUS   \n1       450413  Fusion Life - Шампунь для сухих и окрашенных в...   \n2       126857         Микрофон для ПК jack 3,5мм всенаправленный   \n3      1577569                             Серьги гвоздики сердце   \n4       869328  Чёрно-красная стильная брошь \"Тюльпаны\" из акр...   \n...        ...                                                ...   \n70859   967535          Носки с мехом куницы авокадо разноцветные   \n70860  1488636          Эфирное масло Сосны, 10 мл, от КедрМаркет   \n70861   827510                           Компект (футболка+шорты)   \n70862   529244                     Купальный костюм Mark Formelle   \n70863  1400885                                    Шапка \"Горошек\"   \n\n                                       short_description  \\\n0                                                   None   \n1                                                   None   \n2         универсальный 3,5 мм микрофон запишет ваш звук   \n3                                 Серьги гвоздики сердце   \n4      Стильная и яркая брошь ручной работы! Великоле...   \n...                                                  ...   \n70859          Пуховые носки с мехомом куницы с авакадо.   \n70860  Масло сосны повышает защитную функцию кожи, уп...   \n70861            Отличный комплект. Удобный, комфортный.   \n70862                                               None   \n70863                                               None   \n\n          name_value_characteristics    rating  feedback_quantity  \n0                               None  0.000000                  0  \n1                               None  4.333333                  6  \n2                               None  3.708333                 24  \n3                               None  0.000000                  0  \n4                               None  0.000000                  0  \n...                              ...       ...                ...  \n70859                           None  5.000000                  3  \n70860                           None  0.000000                  0  \n70861                           None  0.000000                  0  \n70862  Российский размер:40|42|44|46  0.000000                  0  \n70863                           None  0.000000                  0  \n\n[70864 rows x 6 columns]",
      "text/html": "<div>\n<style scoped>\n    .dataframe tbody tr th:only-of-type {\n        vertical-align: middle;\n    }\n\n    .dataframe tbody tr th {\n        vertical-align: top;\n    }\n\n    .dataframe thead th {\n        text-align: right;\n    }\n</style>\n<table border=\"1\" class=\"dataframe\">\n  <thead>\n    <tr style=\"text-align: right;\">\n      <th></th>\n      <th>id</th>\n      <th>title</th>\n      <th>short_description</th>\n      <th>name_value_characteristics</th>\n      <th>rating</th>\n      <th>feedback_quantity</th>\n    </tr>\n  </thead>\n  <tbody>\n    <tr>\n      <th>0</th>\n      <td>1070974</td>\n      <td>Браслет из натуральных камней LOTUS</td>\n      <td>None</td>\n      <td>None</td>\n      <td>0.000000</td>\n      <td>0</td>\n    </tr>\n    <tr>\n      <th>1</th>\n      <td>450413</td>\n      <td>Fusion Life - Шампунь для сухих и окрашенных в...</td>\n      <td>None</td>\n      <td>None</td>\n      <td>4.333333</td>\n      <td>6</td>\n    </tr>\n    <tr>\n      <th>2</th>\n      <td>126857</td>\n      <td>Микрофон для ПК jack 3,5мм всенаправленный</td>\n      <td>универсальный 3,5 мм микрофон запишет ваш звук</td>\n      <td>None</td>\n      <td>3.708333</td>\n      <td>24</td>\n    </tr>\n    <tr>\n      <th>3</th>\n      <td>1577569</td>\n      <td>Серьги гвоздики сердце</td>\n      <td>Серьги гвоздики сердце</td>\n      <td>None</td>\n      <td>0.000000</td>\n      <td>0</td>\n    </tr>\n    <tr>\n      <th>4</th>\n      <td>869328</td>\n      <td>Чёрно-красная стильная брошь \"Тюльпаны\" из акр...</td>\n      <td>Стильная и яркая брошь ручной работы! Великоле...</td>\n      <td>None</td>\n      <td>0.000000</td>\n      <td>0</td>\n    </tr>\n    <tr>\n      <th>...</th>\n      <td>...</td>\n      <td>...</td>\n      <td>...</td>\n      <td>...</td>\n      <td>...</td>\n      <td>...</td>\n    </tr>\n    <tr>\n      <th>70859</th>\n      <td>967535</td>\n      <td>Носки с мехом куницы авокадо разноцветные</td>\n      <td>Пуховые носки с мехомом куницы с авакадо.</td>\n      <td>None</td>\n      <td>5.000000</td>\n      <td>3</td>\n    </tr>\n    <tr>\n      <th>70860</th>\n      <td>1488636</td>\n      <td>Эфирное масло Сосны, 10 мл, от КедрМаркет</td>\n      <td>Масло сосны повышает защитную функцию кожи, уп...</td>\n      <td>None</td>\n      <td>0.000000</td>\n      <td>0</td>\n    </tr>\n    <tr>\n      <th>70861</th>\n      <td>827510</td>\n      <td>Компект (футболка+шорты)</td>\n      <td>Отличный комплект. Удобный, комфортный.</td>\n      <td>None</td>\n      <td>0.000000</td>\n      <td>0</td>\n    </tr>\n    <tr>\n      <th>70862</th>\n      <td>529244</td>\n      <td>Купальный костюм Mark Formelle</td>\n      <td>None</td>\n      <td>Российский размер:40|42|44|46</td>\n      <td>0.000000</td>\n      <td>0</td>\n    </tr>\n    <tr>\n      <th>70863</th>\n      <td>1400885</td>\n      <td>Шапка \"Горошек\"</td>\n      <td>None</td>\n      <td>None</td>\n      <td>0.000000</td>\n      <td>0</td>\n    </tr>\n  </tbody>\n</table>\n<p>70864 rows × 6 columns</p>\n</div>"
     },
     "execution_count": 61,
     "metadata": {},
     "output_type": "execute_result"
    }
   ],
   "source": [
    "test_data"
   ],
   "metadata": {
    "collapsed": false
   }
  },
  {
   "cell_type": "code",
   "execution_count": 62,
   "outputs": [
    {
     "data": {
      "text/plain": "         id                       title  parent_id\n0         1               Все категории          0\n1       114                       Урбеч       1913\n2       115             Варенье и джемы        328\n3       128              Сухие завтраки       2475\n4       131                       Масла       2475\n...     ...                         ...        ...\n3365  14555          Насадки и запчасти      11691\n3366  14556              Швейные машины      10062\n3367  14557                     Матрасы       2894\n3368  14558           Ледянки и тюбинги      10092\n3369  14559  Аксессуары для сушки белья      12823\n\n[3370 rows x 3 columns]",
      "text/html": "<div>\n<style scoped>\n    .dataframe tbody tr th:only-of-type {\n        vertical-align: middle;\n    }\n\n    .dataframe tbody tr th {\n        vertical-align: top;\n    }\n\n    .dataframe thead th {\n        text-align: right;\n    }\n</style>\n<table border=\"1\" class=\"dataframe\">\n  <thead>\n    <tr style=\"text-align: right;\">\n      <th></th>\n      <th>id</th>\n      <th>title</th>\n      <th>parent_id</th>\n    </tr>\n  </thead>\n  <tbody>\n    <tr>\n      <th>0</th>\n      <td>1</td>\n      <td>Все категории</td>\n      <td>0</td>\n    </tr>\n    <tr>\n      <th>1</th>\n      <td>114</td>\n      <td>Урбеч</td>\n      <td>1913</td>\n    </tr>\n    <tr>\n      <th>2</th>\n      <td>115</td>\n      <td>Варенье и джемы</td>\n      <td>328</td>\n    </tr>\n    <tr>\n      <th>3</th>\n      <td>128</td>\n      <td>Сухие завтраки</td>\n      <td>2475</td>\n    </tr>\n    <tr>\n      <th>4</th>\n      <td>131</td>\n      <td>Масла</td>\n      <td>2475</td>\n    </tr>\n    <tr>\n      <th>...</th>\n      <td>...</td>\n      <td>...</td>\n      <td>...</td>\n    </tr>\n    <tr>\n      <th>3365</th>\n      <td>14555</td>\n      <td>Насадки и запчасти</td>\n      <td>11691</td>\n    </tr>\n    <tr>\n      <th>3366</th>\n      <td>14556</td>\n      <td>Швейные машины</td>\n      <td>10062</td>\n    </tr>\n    <tr>\n      <th>3367</th>\n      <td>14557</td>\n      <td>Матрасы</td>\n      <td>2894</td>\n    </tr>\n    <tr>\n      <th>3368</th>\n      <td>14558</td>\n      <td>Ледянки и тюбинги</td>\n      <td>10092</td>\n    </tr>\n    <tr>\n      <th>3369</th>\n      <td>14559</td>\n      <td>Аксессуары для сушки белья</td>\n      <td>12823</td>\n    </tr>\n  </tbody>\n</table>\n<p>3370 rows × 3 columns</p>\n</div>"
     },
     "execution_count": 62,
     "metadata": {},
     "output_type": "execute_result"
    }
   ],
   "source": [
    "categories_data"
   ],
   "metadata": {
    "collapsed": false
   }
  },
  {
   "cell_type": "markdown",
   "source": [
    "# Some EDA"
   ],
   "metadata": {
    "id": "vx2qMIYrE7rp"
   }
  },
  {
   "cell_type": "markdown",
   "source": [
    "В решении буду использовать только *title* + *short_description*, поэтому лишние признаки можно удалить"
   ],
   "metadata": {
    "id": "8fCEb3HdQU1X"
   }
  },
  {
   "cell_type": "code",
   "source": [
    "target = 'category_id'"
   ],
   "metadata": {
    "id": "I3VEORG1QlCA"
   },
   "execution_count": 63,
   "outputs": []
  },
  {
   "cell_type": "code",
   "source": [
    "train_data.category_id.value_counts().tail()"
   ],
   "metadata": {
    "colab": {
     "base_uri": "https://localhost:8080/"
    },
    "id": "FNeHsKecAWg6",
    "outputId": "268aa552-2137-4ea1-c6aa-ffabc06d7127"
   },
   "execution_count": 64,
   "outputs": [
    {
     "data": {
      "text/plain": "13756    2\n13007    2\n2598     2\n11917    2\n13787    2\nName: category_id, dtype: int64"
     },
     "execution_count": 64,
     "metadata": {},
     "output_type": "execute_result"
    }
   ]
  },
  {
   "cell_type": "markdown",
   "source": [
    "Видим, что есть какое-то количество категорий с очень маленьким количеством товаров в них, для обучения лучше будет заменить эти категории на родительские, чтобы увеличить количество товаров в категории, т.к. метрика учитывает не только конечную категорию, а все дерево. Таким образом мы сильно снизим количество классов для классификатора и улучшим качество. \n",
    "\n",
    "Выделим категории, в которых меньше 100 товаров"
   ],
   "metadata": {
    "id": "fEys_IIZAZ8m"
   }
  },
  {
   "cell_type": "code",
   "source": [
    "train_data['new_category'] = train_data['category_id']"
   ],
   "metadata": {
    "id": "KEucsZdPKe0o"
   },
   "execution_count": 65,
   "outputs": []
  },
  {
   "cell_type": "code",
   "source": [
    "def get_categories_to_change(data: pd.DataFrame, threshold: int = 100) -> list[int]:\n",
    "    products_per_categories = data.groupby('new_category', as_index=False) \\\n",
    "                                  .agg(unique_products=('id', 'count')).sort_values(by='unique_products')\n",
    "\n",
    "    return products_per_categories[products_per_categories.unique_products < threshold].new_category.tolist()"
   ],
   "metadata": {
    "id": "geW0RODDKEGw"
   },
   "execution_count": 66,
   "outputs": []
  },
  {
   "cell_type": "code",
   "source": [
    "print(f'Количество категорий, в которых менее 100 товаров: {len(get_categories_to_change(train_data))}')"
   ],
   "metadata": {
    "colab": {
     "base_uri": "https://localhost:8080/"
    },
    "id": "POe4ASd8Z81M",
    "outputId": "d233bb53-c694-4bd5-e98f-992e60f8a6a7"
   },
   "execution_count": 67,
   "outputs": [
    {
     "name": "stdout",
     "output_type": "stream",
     "text": [
      "Количество категорий, в которых менее 100 товаров: 750\n"
     ]
    }
   ]
  },
  {
   "cell_type": "markdown",
   "source": [
    "Таких категорий оказалось почти 750, а это ~3/4 от 1200, посмотрим, что получится, если теперь заменить эти категории на родительские"
   ],
   "metadata": {
    "id": "0iacv1NNA9Dq"
   }
  },
  {
   "cell_type": "code",
   "source": [
    "def change_category_to_parent(categories_to_change: list[int],\n",
    "                              data: pd.DataFrame,\n",
    "                              categories_data: pd.DataFrame) -> pd.DataFrame:\n",
    "    category_to_parent_dict = dict(categories_data.loc[categories_data.id.isin(categories_to_change), ['id', 'parent_id']].values)\n",
    "    data.loc[data.new_category.isin(categories_to_change), 'new_category'] = data.new_category.map(category_to_parent_dict)\n",
    "    data['new_category'] = data['new_category'].astype(int)\n",
    "\n",
    "    return data\n",
    "\n",
    "def show_products_per_categories(data: pd.DataFrame, threshold: int = 100):\n",
    "    products_per_categories = data.groupby('new_category', as_index=False) \\\n",
    "                                  .agg(unique_products=('id', 'count')) \\\n",
    "                                  .sort_values(by='unique_products', ascending=False)\n",
    "    return products_per_categories[products_per_categories.unique_products < threshold]"
   ],
   "metadata": {
    "id": "fuQdjWh4DLNb"
   },
   "execution_count": 68,
   "outputs": []
  },
  {
   "cell_type": "code",
   "execution_count": 69,
   "outputs": [],
   "source": [
    "while len(get_categories_to_change(train_data)) > 10:\n",
    "    categories_to_change = get_categories_to_change(train_data)\n",
    "    train_data = change_category_to_parent(categories_to_change=categories_to_change,\n",
    "                                           data=train_data,\n",
    "                                           categories_data=categories_data)"
   ],
   "metadata": {
    "collapsed": false
   }
  },
  {
   "cell_type": "code",
   "source": [
    "show_products_per_categories(train_data)"
   ],
   "metadata": {
    "colab": {
     "base_uri": "https://localhost:8080/",
     "height": 551
    },
    "id": "xb4TWdmLIiHj",
    "outputId": "d5733dd7-bea0-4256-bfe5-16fadf68a565"
   },
   "execution_count": 70,
   "outputs": [
    {
     "data": {
      "text/plain": "    new_category  unique_products\n52         10018               94\n76         10118               70",
      "text/html": "<div>\n<style scoped>\n    .dataframe tbody tr th:only-of-type {\n        vertical-align: middle;\n    }\n\n    .dataframe tbody tr th {\n        vertical-align: top;\n    }\n\n    .dataframe thead th {\n        text-align: right;\n    }\n</style>\n<table border=\"1\" class=\"dataframe\">\n  <thead>\n    <tr style=\"text-align: right;\">\n      <th></th>\n      <th>new_category</th>\n      <th>unique_products</th>\n    </tr>\n  </thead>\n  <tbody>\n    <tr>\n      <th>52</th>\n      <td>10018</td>\n      <td>94</td>\n    </tr>\n    <tr>\n      <th>76</th>\n      <td>10118</td>\n      <td>70</td>\n    </tr>\n  </tbody>\n</table>\n</div>"
     },
     "execution_count": 70,
     "metadata": {},
     "output_type": "execute_result"
    }
   ]
  },
  {
   "cell_type": "code",
   "source": [
    "train_data.new_category.nunique()"
   ],
   "metadata": {
    "colab": {
     "base_uri": "https://localhost:8080/"
    },
    "id": "FTdpZYy5MEvu",
    "outputId": "8d890076-ddf6-4a84-a670-b2ce4bfa4ca2"
   },
   "execution_count": 71,
   "outputs": [
    {
     "data": {
      "text/plain": "595"
     },
     "execution_count": 71,
     "metadata": {},
     "output_type": "execute_result"
    }
   ]
  },
  {
   "cell_type": "markdown",
   "source": [
    "Теперь имеем 595 категорий, в которых приемлемое количество товаров, удалим из данных товары, у которых категория стала равна 1, т.к. это категория \"Все категории\""
   ],
   "metadata": {
    "id": "n-hbgHXDMKgi"
   }
  },
  {
   "cell_type": "code",
   "execution_count": 72,
   "outputs": [],
   "source": [
    "train_data = train_data[train_data.new_category != 1]"
   ],
   "metadata": {
    "collapsed": false
   }
  },
  {
   "cell_type": "code",
   "source": [
    "train_data.info()"
   ],
   "metadata": {
    "colab": {
     "base_uri": "https://localhost:8080/"
    },
    "id": "eDEEeqSPQ06l",
    "outputId": "9567feb1-1dc6-487f-b0ea-1d8746537d3c"
   },
   "execution_count": 73,
   "outputs": [
    {
     "name": "stdout",
     "output_type": "stream",
     "text": [
      "<class 'pandas.core.frame.DataFrame'>\n",
      "Int64Index: 283278 entries, 0 to 283451\n",
      "Data columns (total 8 columns):\n",
      " #   Column                      Non-Null Count   Dtype  \n",
      "---  ------                      --------------   -----  \n",
      " 0   id                          283278 non-null  int64  \n",
      " 1   title                       283278 non-null  object \n",
      " 2   short_description           133058 non-null  object \n",
      " 3   name_value_characteristics  50352 non-null   object \n",
      " 4   rating                      283278 non-null  float64\n",
      " 5   feedback_quantity           283278 non-null  int64  \n",
      " 6   category_id                 283278 non-null  int64  \n",
      " 7   new_category                283278 non-null  int64  \n",
      "dtypes: float64(1), int64(4), object(3)\n",
      "memory usage: 19.5+ MB\n"
     ]
    }
   ]
  },
  {
   "cell_type": "markdown",
   "source": [
    "Видим большое количество пропусков в колонке с описанием"
   ],
   "metadata": {
    "id": "uRcLgbkcQ61s"
   }
  },
  {
   "cell_type": "code",
   "source": [
    "train_data.short_description.value_counts()"
   ],
   "metadata": {
    "colab": {
     "base_uri": "https://localhost:8080/"
    },
    "id": "gw7Tyg36Q-hE",
    "outputId": "bec7ff28-1584-44c5-d38e-9f6ffb455b96"
   },
   "execution_count": 74,
   "outputs": [
    {
     "data": {
      "text/plain": "                                                                                                                                      2782\nNone                                                                                                                                  1691\nТачскрином называют стекло, отвечающее за прикосновения на телефоне, это самая хрупкая часть устройства.                               399\nКоллекция TNL 8 чувств - это богатая палитра самых ярких, смелых оттенков в флаконах с пудровым напылением «soft-touch».               237\nПульт отличается качественной сборкой сертифицированного предприятия Huayu                                                             228\n                                                                                                                                      ... \nЗаколка-зажим                                                                                                                            1\nКолготки женские сетчатые из лайкры с рисунком сзади по ноге                                                                             1\nЕлочные игрушки.                                                                                                                         1\nОригинальный женский браслет-цепочка на руку.                                                                                            1\nТакими ножами удобно резать фрукты, овощи, сыры и ветчину, продукты получатся интересными по форме, более аппетитными и красивыми.       1\nName: short_description, Length: 104441, dtype: int64"
     },
     "execution_count": 74,
     "metadata": {},
     "output_type": "execute_result"
    }
   ]
  },
  {
   "cell_type": "markdown",
   "source": [
    "Заодно видим, что есть большое количество строк с пустыми описаниями ('') и с одинаковыми описаниями, т.е. в данных большое количество дубликатов"
   ],
   "metadata": {
    "id": "-BT9yg20RKYd"
   }
  },
  {
   "cell_type": "code",
   "source": [
    "train_data = fill_description_nans(train_data)\n",
    "test_data = fill_description_nans(test_data)"
   ],
   "metadata": {
    "id": "oV5Ip8CsFBF0"
   },
   "execution_count": 75,
   "outputs": [
    {
     "name": "stderr",
     "output_type": "stream",
     "text": [
      "/home/ilya/Тестовые/kazan-express/src/data_preprocessors/preprocessors.py:16: SettingWithCopyWarning: \n",
      "A value is trying to be set on a copy of a slice from a DataFrame.\n",
      "Try using .loc[row_indexer,col_indexer] = value instead\n",
      "\n",
      "See the caveats in the documentation: https://pandas.pydata.org/pandas-docs/stable/user_guide/indexing.html#returning-a-view-versus-a-copy\n",
      "  data['short_description'] = data['short_description'].fillna(fill_value)\n"
     ]
    }
   ]
  },
  {
   "cell_type": "markdown",
   "source": [
    "## Find duplicates"
   ],
   "metadata": {
    "id": "HRV5OIplFugN"
   }
  },
  {
   "cell_type": "code",
   "source": [
    "duplicates_data = train_data.groupby(['title', 'short_description'], as_index=False) \\\n",
    "                            .agg(unique_id_number=('id', 'count')) \\\n",
    "                            .sort_values(by='unique_id_number', ascending=False)\n",
    "duplicates_data[duplicates_data.unique_id_number > 2]"
   ],
   "metadata": {
    "colab": {
     "base_uri": "https://localhost:8080/",
     "height": 424
    },
    "id": "SI2oCvTBFrLx",
    "outputId": "6bc3740f-6408-4b7b-b992-9d44a56061b1"
   },
   "execution_count": 76,
   "outputs": [
    {
     "data": {
      "text/plain": "                                    title                 short_description  \\\n222847                      Футболка ТВОЕ                      описания нет   \n185786                             Серьги                      описания нет   \n28132                         Брюки Koton                      описания нет   \n200879                      Сумка женская                      описания нет   \n197454              Спортивные брюки ТВОЕ                      описания нет   \n...                                   ...                               ...   \n49430                     Джемпер вискоза                      описания нет   \n136130  Носки мужские короткие однотонные                      описания нет   \n80367      Колготки ажурные Peppy Woolton                      описания нет   \n46204    Держатель для фена самоклеящийся  Держатель для фена самоклеящийся   \n209052                     Толстовка Твое                      описания нет   \n\n        unique_id_number  \n222847               480  \n185786               254  \n28132                217  \n200879               199  \n197454               181  \n...                  ...  \n49430                  3  \n136130                 3  \n80367                  3  \n46204                  3  \n209052                 3  \n\n[3917 rows x 3 columns]",
      "text/html": "<div>\n<style scoped>\n    .dataframe tbody tr th:only-of-type {\n        vertical-align: middle;\n    }\n\n    .dataframe tbody tr th {\n        vertical-align: top;\n    }\n\n    .dataframe thead th {\n        text-align: right;\n    }\n</style>\n<table border=\"1\" class=\"dataframe\">\n  <thead>\n    <tr style=\"text-align: right;\">\n      <th></th>\n      <th>title</th>\n      <th>short_description</th>\n      <th>unique_id_number</th>\n    </tr>\n  </thead>\n  <tbody>\n    <tr>\n      <th>222847</th>\n      <td>Футболка ТВОЕ</td>\n      <td>описания нет</td>\n      <td>480</td>\n    </tr>\n    <tr>\n      <th>185786</th>\n      <td>Серьги</td>\n      <td>описания нет</td>\n      <td>254</td>\n    </tr>\n    <tr>\n      <th>28132</th>\n      <td>Брюки Koton</td>\n      <td>описания нет</td>\n      <td>217</td>\n    </tr>\n    <tr>\n      <th>200879</th>\n      <td>Сумка женская</td>\n      <td>описания нет</td>\n      <td>199</td>\n    </tr>\n    <tr>\n      <th>197454</th>\n      <td>Спортивные брюки ТВОЕ</td>\n      <td>описания нет</td>\n      <td>181</td>\n    </tr>\n    <tr>\n      <th>...</th>\n      <td>...</td>\n      <td>...</td>\n      <td>...</td>\n    </tr>\n    <tr>\n      <th>49430</th>\n      <td>Джемпер вискоза</td>\n      <td>описания нет</td>\n      <td>3</td>\n    </tr>\n    <tr>\n      <th>136130</th>\n      <td>Носки мужские короткие однотонные</td>\n      <td>описания нет</td>\n      <td>3</td>\n    </tr>\n    <tr>\n      <th>80367</th>\n      <td>Колготки ажурные Peppy Woolton</td>\n      <td>описания нет</td>\n      <td>3</td>\n    </tr>\n    <tr>\n      <th>46204</th>\n      <td>Держатель для фена самоклеящийся</td>\n      <td>Держатель для фена самоклеящийся</td>\n      <td>3</td>\n    </tr>\n    <tr>\n      <th>209052</th>\n      <td>Толстовка Твое</td>\n      <td>описания нет</td>\n      <td>3</td>\n    </tr>\n  </tbody>\n</table>\n<p>3917 rows × 3 columns</p>\n</div>"
     },
     "execution_count": 76,
     "metadata": {},
     "output_type": "execute_result"
    }
   ]
  },
  {
   "cell_type": "code",
   "source": [
    "print(f'Уникальных названий товаров: {train_data.title.nunique()}')\n",
    "print(f'Уникальный id товаров: {train_data.id.nunique()}')"
   ],
   "metadata": {
    "colab": {
     "base_uri": "https://localhost:8080/"
    },
    "id": "7_5kV5QeSHy6",
    "outputId": "d662413f-f005-47cc-a606-2194b52dda49"
   },
   "execution_count": 77,
   "outputs": [
    {
     "name": "stdout",
     "output_type": "stream",
     "text": [
      "Уникальных названий товаров: 239851\n",
      "Уникальный id товаров: 283278\n"
     ]
    }
   ]
  },
  {
   "cell_type": "markdown",
   "source": [
    "Почти 4000 товаров являются дубликатами, всего же уникальных товаров 240000; оставим только один экземпляр каждого продублированного товара"
   ],
   "metadata": {
    "id": "l8hPg4lKR-ih"
   }
  },
  {
   "cell_type": "code",
   "source": [
    "train_data = train_data.drop_duplicates(subset=['title', 'short_description', 'category_id'])\n",
    "train_data"
   ],
   "metadata": {
    "colab": {
     "base_uri": "https://localhost:8080/",
     "height": 424
    },
    "id": "qjerlMVVS4Uo",
    "outputId": "795d499f-c64d-4c0a-87b1-e8dca2faa25c"
   },
   "execution_count": 78,
   "outputs": [
    {
     "data": {
      "text/plain": "             id                                              title  \\\n0       1267423  Muhle Manikure Песочные колпачки для педикюра ...   \n1        128833                Sony Xperia L1 Защитное стекло 2,5D   \n2        569924     Конверт для денег Прекрасная роза, 16,5 х 8 см   \n3       1264824                                             Серьги   \n4       1339052  Наклейки на унитаз для туалета на крышку бачок...   \n...         ...                                                ...   \n283447   584544                      Эфирное масло аромамасло 20мл   \n283448  1229689                 Форма для выпечки печенья \"Орешки\"   \n283449   904913  Магнит символ Нового года-Тигренок/(по 3 шт в уп)   \n283450  1413201  Рифленный нож / слайсер для фигурной нарезки, ...   \n283451   129638          Набор воздушных шариков (5 шт в упаковке)   \n\n                                        short_description  \\\n0       Muhle Manikure Колпачок песочный шлифовальный ...   \n1                                            описания нет   \n2        Конверт для денег «Прекрасная роза», 16,5 × 8 см   \n3                                            описания нет   \n4       Водостойкая, интересная наклейка на унитаз раз...   \n...                                                   ...   \n283447  Аромамаркетинг – это мощный инструмент по созд...   \n283448      Орешки со сгущенкой, форма для приготовления.   \n283449                                       описания нет   \n283450  Такими ножами удобно резать фрукты, овощи, сыр...   \n283451                                       описания нет   \n\n                               name_value_characteristics    rating  \\\n0                                                    None  0.000000   \n1                                                    None  4.666667   \n2                                                    None  5.000000   \n3                                                    None  0.000000   \n4                                                    None  0.000000   \n...                                                   ...       ...   \n283447  Выберите аромат:Ваниль|Персик|Холл гостиницы|Н...  4.500000   \n283448                                               None  5.000000   \n283449                                               None  5.000000   \n283450                                      Вид:19,5х6 см  0.000000   \n283451                                               None  4.672414   \n\n        feedback_quantity  category_id  new_category  \n0                       0         2693          2693  \n1                       9        13408         13408  \n2                       6        11790         11790  \n3                       0        14076         14076  \n4                       0        12401         12401  \n...                   ...          ...           ...  \n283447                  6         2674          2674  \n283448                  1        13554         13554  \n283449                  1        11617         11617  \n283450                  0        14030         14030  \n283451                 58        12604         12604  \n\n[254759 rows x 8 columns]",
      "text/html": "<div>\n<style scoped>\n    .dataframe tbody tr th:only-of-type {\n        vertical-align: middle;\n    }\n\n    .dataframe tbody tr th {\n        vertical-align: top;\n    }\n\n    .dataframe thead th {\n        text-align: right;\n    }\n</style>\n<table border=\"1\" class=\"dataframe\">\n  <thead>\n    <tr style=\"text-align: right;\">\n      <th></th>\n      <th>id</th>\n      <th>title</th>\n      <th>short_description</th>\n      <th>name_value_characteristics</th>\n      <th>rating</th>\n      <th>feedback_quantity</th>\n      <th>category_id</th>\n      <th>new_category</th>\n    </tr>\n  </thead>\n  <tbody>\n    <tr>\n      <th>0</th>\n      <td>1267423</td>\n      <td>Muhle Manikure Песочные колпачки для педикюра ...</td>\n      <td>Muhle Manikure Колпачок песочный шлифовальный ...</td>\n      <td>None</td>\n      <td>0.000000</td>\n      <td>0</td>\n      <td>2693</td>\n      <td>2693</td>\n    </tr>\n    <tr>\n      <th>1</th>\n      <td>128833</td>\n      <td>Sony Xperia L1 Защитное стекло 2,5D</td>\n      <td>описания нет</td>\n      <td>None</td>\n      <td>4.666667</td>\n      <td>9</td>\n      <td>13408</td>\n      <td>13408</td>\n    </tr>\n    <tr>\n      <th>2</th>\n      <td>569924</td>\n      <td>Конверт для денег Прекрасная роза, 16,5 х 8 см</td>\n      <td>Конверт для денег «Прекрасная роза», 16,5 × 8 см</td>\n      <td>None</td>\n      <td>5.000000</td>\n      <td>6</td>\n      <td>11790</td>\n      <td>11790</td>\n    </tr>\n    <tr>\n      <th>3</th>\n      <td>1264824</td>\n      <td>Серьги</td>\n      <td>описания нет</td>\n      <td>None</td>\n      <td>0.000000</td>\n      <td>0</td>\n      <td>14076</td>\n      <td>14076</td>\n    </tr>\n    <tr>\n      <th>4</th>\n      <td>1339052</td>\n      <td>Наклейки на унитаз для туалета на крышку бачок...</td>\n      <td>Водостойкая, интересная наклейка на унитаз раз...</td>\n      <td>None</td>\n      <td>0.000000</td>\n      <td>0</td>\n      <td>12401</td>\n      <td>12401</td>\n    </tr>\n    <tr>\n      <th>...</th>\n      <td>...</td>\n      <td>...</td>\n      <td>...</td>\n      <td>...</td>\n      <td>...</td>\n      <td>...</td>\n      <td>...</td>\n      <td>...</td>\n    </tr>\n    <tr>\n      <th>283447</th>\n      <td>584544</td>\n      <td>Эфирное масло аромамасло 20мл</td>\n      <td>Аромамаркетинг – это мощный инструмент по созд...</td>\n      <td>Выберите аромат:Ваниль|Персик|Холл гостиницы|Н...</td>\n      <td>4.500000</td>\n      <td>6</td>\n      <td>2674</td>\n      <td>2674</td>\n    </tr>\n    <tr>\n      <th>283448</th>\n      <td>1229689</td>\n      <td>Форма для выпечки печенья \"Орешки\"</td>\n      <td>Орешки со сгущенкой, форма для приготовления.</td>\n      <td>None</td>\n      <td>5.000000</td>\n      <td>1</td>\n      <td>13554</td>\n      <td>13554</td>\n    </tr>\n    <tr>\n      <th>283449</th>\n      <td>904913</td>\n      <td>Магнит символ Нового года-Тигренок/(по 3 шт в уп)</td>\n      <td>описания нет</td>\n      <td>None</td>\n      <td>5.000000</td>\n      <td>1</td>\n      <td>11617</td>\n      <td>11617</td>\n    </tr>\n    <tr>\n      <th>283450</th>\n      <td>1413201</td>\n      <td>Рифленный нож / слайсер для фигурной нарезки, ...</td>\n      <td>Такими ножами удобно резать фрукты, овощи, сыр...</td>\n      <td>Вид:19,5х6 см</td>\n      <td>0.000000</td>\n      <td>0</td>\n      <td>14030</td>\n      <td>14030</td>\n    </tr>\n    <tr>\n      <th>283451</th>\n      <td>129638</td>\n      <td>Набор воздушных шариков (5 шт в упаковке)</td>\n      <td>описания нет</td>\n      <td>None</td>\n      <td>4.672414</td>\n      <td>58</td>\n      <td>12604</td>\n      <td>12604</td>\n    </tr>\n  </tbody>\n</table>\n<p>254759 rows × 8 columns</p>\n</div>"
     },
     "execution_count": 78,
     "metadata": {},
     "output_type": "execute_result"
    }
   ]
  },
  {
   "cell_type": "markdown",
   "source": [
    "## Preprocess data\n",
    "1) Привести все text_features к нижнему регистру,\n",
    "2) Соединить title и description,\n",
    "3) Извлечь признаки из текстовых фичей при помощи CountVectorizer\n",
    "4) Разбить данные на тренировочную и валидационную выборки\n"
   ],
   "metadata": {
    "id": "Bd2MOXbW6LeS"
   }
  },
  {
   "cell_type": "code",
   "source": [
    "def build_full_path_str(category_id):\n",
    "    labels_path = _build_full_path(category_id, type_='str')\n",
    "\n",
    "    return \" \".join(labels_path[::-1])\n",
    "\n",
    "def build_full_path_id(category_id):\n",
    "    ids_path = _build_full_path(category_id, type_='int')\n",
    "    return ids_path\n",
    "\n",
    "def _build_full_path(category_id, type_: str = 'int'):\n",
    "    labels_path = []\n",
    "    id_path = []\n",
    "    leaf_category = category_id\n",
    "\n",
    "    exit_flag = False\n",
    "    while not exit_flag:\n",
    "        try:\n",
    "            parent = categories_data.loc[categories_data.id == leaf_category, 'parent_id'].values[0]\n",
    "        except IndexError:\n",
    "            exit_flag = True\n",
    "            continue\n",
    "\n",
    "        label = categories_data.loc[categories_data.id == leaf_category, 'title'].values[0]\n",
    "        labels_path.append(label)\n",
    "        id_path.append(leaf_category)\n",
    "\n",
    "        if parent == 0 or parent == 1:\n",
    "            exit_flag = True\n",
    "        else:\n",
    "            leaf_category = parent\n",
    "    if type_ == 'str':\n",
    "        return labels_path\n",
    "    elif type_ == 'int':    \n",
    "        return id_path \n",
    "\n",
    "\n",
    "used_categories = train_data.new_category.unique()\n",
    "categories_data['full_path'] = ''\n",
    "categories_data['full_path_id'] = ''\n",
    "categories_data['full_path_id'] = categories_data['full_path_id'].astype(object)\n",
    "for row_index in tqdm_notebook(categories_data.index):\n",
    "    cat_id = categories_data.loc[row_index, 'id']\n",
    "    if cat_id in used_categories:\n",
    "        full_path = build_full_path_str(cat_id)\n",
    "        full_path_id = build_full_path_id(cat_id)\n",
    "        categories_data.loc[row_index, 'full_path'] = full_path\n",
    "        categories_data.at[row_index, 'full_path_id'] = full_path_id\n",
    "\n",
    "categories_data['full_path'] = categories_data['full_path'].str.lower()\n",
    "categories_data[categories_data.full_path != ''].sample(10)"
   ],
   "metadata": {
    "colab": {
     "base_uri": "https://localhost:8080/",
     "height": 395,
     "referenced_widgets": [
      "4a4737834e844c308e384c744afb4e55",
      "64193bef6da8421dbd1dd9bada7aa849",
      "53fd2ab197f74987a0eb34c5ee51e7b0",
      "bf13a950dada4f329a48c7d98db53d9b",
      "cee22f973571421bbfc347ebafdea70b",
      "e99a3cbf8a6f43779b0d8c88b8194b79",
      "e975ed866a2847b6acd145aed627c5d7",
      "e95a9268252b4ea9b86c8fa8d7ea08a3",
      "78a96968cf774c55967ef8b1fd1aaf44",
      "34857e202c8341b8bf0b4fab6395c637",
      "a01ff58d52054e34b3e942b8bf4cfdd4"
     ]
    },
    "id": "waBv5qcl6eY0",
    "outputId": "8938a85a-ef11-42c6-e4bc-fab336f51001"
   },
   "execution_count": 79,
   "outputs": [
    {
     "data": {
      "text/plain": "  0%|          | 0/3370 [00:00<?, ?it/s]",
      "application/vnd.jupyter.widget-view+json": {
       "version_major": 2,
       "version_minor": 0,
       "model_id": "2cf6049c88784cf18e141af9fd01a7d8"
      }
     },
     "metadata": {},
     "output_type": "display_data"
    },
    {
     "data": {
      "text/plain": "         id                        title  parent_id  \\\n2332  13277             Свадебные товары      10118   \n1742  12604  Воздушные шары и аксессуары      10934   \n1643  12493                     Футболки      11306   \n2810  13816                        Патчи      10137   \n186    2740            Полки и подставки      12842   \n2406  13362                   Коннекторы      10073   \n1562  12407                  Термокружки      10586   \n2552  13527       Обложки для документов      10143   \n1783  12648             Парфюмерная вода      10084   \n1570  12415           Боди и комбинезоны      10095   \n\n                                              full_path  \\\n2332  товары для дома товары для праздников свадебны...   \n1742  товары для дома товары для праздников оформлен...   \n1643  одежда одежда для девочек футболки и майки фут...   \n2810                        красота уход за лицом патчи   \n186   товары для дома хозяйственные товары аксессуар...   \n2406  электроника аксессуары для электроники коннекторы   \n1562  товары для дома товары для кухни термосы и тер...   \n2552  аксессуары женские аксессуары кошельки, ключни...   \n1783                красота парфюмерия парфюмерная вода   \n1570  одежда одежда для новорождённых боди и комбине...   \n\n                      full_path_id  \n2332         [13277, 10118, 10018]  \n1742  [12604, 10934, 10118, 10018]  \n1643  [12493, 11306, 10221, 10014]  \n2810         [13816, 10137, 10012]  \n186    [2740, 12842, 10110, 10018]  \n2406         [13362, 10073, 10020]  \n1562  [12407, 10586, 10115, 10018]  \n2552  [13527, 10143, 10023, 10003]  \n1783         [12648, 10084, 10012]  \n1570         [12415, 10095, 10014]  ",
      "text/html": "<div>\n<style scoped>\n    .dataframe tbody tr th:only-of-type {\n        vertical-align: middle;\n    }\n\n    .dataframe tbody tr th {\n        vertical-align: top;\n    }\n\n    .dataframe thead th {\n        text-align: right;\n    }\n</style>\n<table border=\"1\" class=\"dataframe\">\n  <thead>\n    <tr style=\"text-align: right;\">\n      <th></th>\n      <th>id</th>\n      <th>title</th>\n      <th>parent_id</th>\n      <th>full_path</th>\n      <th>full_path_id</th>\n    </tr>\n  </thead>\n  <tbody>\n    <tr>\n      <th>2332</th>\n      <td>13277</td>\n      <td>Свадебные товары</td>\n      <td>10118</td>\n      <td>товары для дома товары для праздников свадебны...</td>\n      <td>[13277, 10118, 10018]</td>\n    </tr>\n    <tr>\n      <th>1742</th>\n      <td>12604</td>\n      <td>Воздушные шары и аксессуары</td>\n      <td>10934</td>\n      <td>товары для дома товары для праздников оформлен...</td>\n      <td>[12604, 10934, 10118, 10018]</td>\n    </tr>\n    <tr>\n      <th>1643</th>\n      <td>12493</td>\n      <td>Футболки</td>\n      <td>11306</td>\n      <td>одежда одежда для девочек футболки и майки фут...</td>\n      <td>[12493, 11306, 10221, 10014]</td>\n    </tr>\n    <tr>\n      <th>2810</th>\n      <td>13816</td>\n      <td>Патчи</td>\n      <td>10137</td>\n      <td>красота уход за лицом патчи</td>\n      <td>[13816, 10137, 10012]</td>\n    </tr>\n    <tr>\n      <th>186</th>\n      <td>2740</td>\n      <td>Полки и подставки</td>\n      <td>12842</td>\n      <td>товары для дома хозяйственные товары аксессуар...</td>\n      <td>[2740, 12842, 10110, 10018]</td>\n    </tr>\n    <tr>\n      <th>2406</th>\n      <td>13362</td>\n      <td>Коннекторы</td>\n      <td>10073</td>\n      <td>электроника аксессуары для электроники коннекторы</td>\n      <td>[13362, 10073, 10020]</td>\n    </tr>\n    <tr>\n      <th>1562</th>\n      <td>12407</td>\n      <td>Термокружки</td>\n      <td>10586</td>\n      <td>товары для дома товары для кухни термосы и тер...</td>\n      <td>[12407, 10586, 10115, 10018]</td>\n    </tr>\n    <tr>\n      <th>2552</th>\n      <td>13527</td>\n      <td>Обложки для документов</td>\n      <td>10143</td>\n      <td>аксессуары женские аксессуары кошельки, ключни...</td>\n      <td>[13527, 10143, 10023, 10003]</td>\n    </tr>\n    <tr>\n      <th>1783</th>\n      <td>12648</td>\n      <td>Парфюмерная вода</td>\n      <td>10084</td>\n      <td>красота парфюмерия парфюмерная вода</td>\n      <td>[12648, 10084, 10012]</td>\n    </tr>\n    <tr>\n      <th>1570</th>\n      <td>12415</td>\n      <td>Боди и комбинезоны</td>\n      <td>10095</td>\n      <td>одежда одежда для новорождённых боди и комбине...</td>\n      <td>[12415, 10095, 10014]</td>\n    </tr>\n  </tbody>\n</table>\n</div>"
     },
     "execution_count": 79,
     "metadata": {},
     "output_type": "execute_result"
    }
   ]
  },
  {
   "cell_type": "code",
   "execution_count": 80,
   "outputs": [
    {
     "data": {
      "text/plain": "    id            title  parent_id full_path full_path_id\n0    1    все категории          0                       \n1  114            урбеч       1913                       \n2  115  варенье и джемы        328                       \n3  128   сухие завтраки       2475                       \n4  131            масла       2475                       ",
      "text/html": "<div>\n<style scoped>\n    .dataframe tbody tr th:only-of-type {\n        vertical-align: middle;\n    }\n\n    .dataframe tbody tr th {\n        vertical-align: top;\n    }\n\n    .dataframe thead th {\n        text-align: right;\n    }\n</style>\n<table border=\"1\" class=\"dataframe\">\n  <thead>\n    <tr style=\"text-align: right;\">\n      <th></th>\n      <th>id</th>\n      <th>title</th>\n      <th>parent_id</th>\n      <th>full_path</th>\n      <th>full_path_id</th>\n    </tr>\n  </thead>\n  <tbody>\n    <tr>\n      <th>0</th>\n      <td>1</td>\n      <td>все категории</td>\n      <td>0</td>\n      <td></td>\n      <td></td>\n    </tr>\n    <tr>\n      <th>1</th>\n      <td>114</td>\n      <td>урбеч</td>\n      <td>1913</td>\n      <td></td>\n      <td></td>\n    </tr>\n    <tr>\n      <th>2</th>\n      <td>115</td>\n      <td>варенье и джемы</td>\n      <td>328</td>\n      <td></td>\n      <td></td>\n    </tr>\n    <tr>\n      <th>3</th>\n      <td>128</td>\n      <td>сухие завтраки</td>\n      <td>2475</td>\n      <td></td>\n      <td></td>\n    </tr>\n    <tr>\n      <th>4</th>\n      <td>131</td>\n      <td>масла</td>\n      <td>2475</td>\n      <td></td>\n      <td></td>\n    </tr>\n  </tbody>\n</table>\n</div>"
     },
     "execution_count": 80,
     "metadata": {},
     "output_type": "execute_result"
    }
   ],
   "source": [
    "categories_data['title'] = categories_data['title'].str.lower()\n",
    "categories_data.head()"
   ],
   "metadata": {
    "collapsed": false
   }
  },
  {
   "cell_type": "code",
   "source": [
    "drop_columns = ['short_description', 'title', 'rating', 'feedback_quantity', 'name_value_characteristics']\n",
    "train_data = preprocess_data(train_data, drop_columns)\n",
    "test_data = preprocess_data(test_data, drop_columns)"
   ],
   "metadata": {
    "colab": {
     "base_uri": "https://localhost:8080/"
    },
    "id": "qrNGSZAk-L1O",
    "outputId": "4e822a78-3ec8-41fa-d58a-ef5a2917fadd"
   },
   "execution_count": 81,
   "outputs": []
  },
  {
   "cell_type": "code",
   "source": [
    "train_data.head()"
   ],
   "metadata": {
    "colab": {
     "base_uri": "https://localhost:8080/",
     "height": 206
    },
    "id": "uTVYCbfSAqy6",
    "outputId": "6de0d653-b4e6-4b12-baad-7ad173fe0e6c"
   },
   "execution_count": 82,
   "outputs": [
    {
     "data": {
      "text/plain": "        id  category_id  new_category  \\\n0  1267423         2693          2693   \n1   128833        13408         13408   \n2   569924        11790         11790   \n3  1264824        14076         14076   \n4  1339052        12401         12401   \n\n                                         description  \n0  muhle manikure песочные колпачки для педикюра ...  \n1   sony xperia l1 защитное стекло 2,5d описания нет  \n2  конверт для денег прекрасная роза, 16,5 х 8 см...  \n3                                серьги описания нет  \n4  наклейки на унитаз для туалета на крышку бачок...  ",
      "text/html": "<div>\n<style scoped>\n    .dataframe tbody tr th:only-of-type {\n        vertical-align: middle;\n    }\n\n    .dataframe tbody tr th {\n        vertical-align: top;\n    }\n\n    .dataframe thead th {\n        text-align: right;\n    }\n</style>\n<table border=\"1\" class=\"dataframe\">\n  <thead>\n    <tr style=\"text-align: right;\">\n      <th></th>\n      <th>id</th>\n      <th>category_id</th>\n      <th>new_category</th>\n      <th>description</th>\n    </tr>\n  </thead>\n  <tbody>\n    <tr>\n      <th>0</th>\n      <td>1267423</td>\n      <td>2693</td>\n      <td>2693</td>\n      <td>muhle manikure песочные колпачки для педикюра ...</td>\n    </tr>\n    <tr>\n      <th>1</th>\n      <td>128833</td>\n      <td>13408</td>\n      <td>13408</td>\n      <td>sony xperia l1 защитное стекло 2,5d описания нет</td>\n    </tr>\n    <tr>\n      <th>2</th>\n      <td>569924</td>\n      <td>11790</td>\n      <td>11790</td>\n      <td>конверт для денег прекрасная роза, 16,5 х 8 см...</td>\n    </tr>\n    <tr>\n      <th>3</th>\n      <td>1264824</td>\n      <td>14076</td>\n      <td>14076</td>\n      <td>серьги описания нет</td>\n    </tr>\n    <tr>\n      <th>4</th>\n      <td>1339052</td>\n      <td>12401</td>\n      <td>12401</td>\n      <td>наклейки на унитаз для туалета на крышку бачок...</td>\n    </tr>\n  </tbody>\n</table>\n</div>"
     },
     "execution_count": 82,
     "metadata": {},
     "output_type": "execute_result"
    }
   ]
  },
  {
   "cell_type": "code",
   "source": [
    "new_categories_data = categories_data[categories_data.id.isin(train_data.new_category.unique().tolist())]\n",
    "new_categories_data"
   ],
   "metadata": {
    "colab": {
     "base_uri": "https://localhost:8080/",
     "height": 424
    },
    "id": "mLG7_F3T-8Vf",
    "outputId": "7d5d58c2-f17c-4a50-cc43-969d39b41164"
   },
   "execution_count": 83,
   "outputs": [
    {
     "data": {
      "text/plain": "         id                                      title  parent_id  \\\n65     2599                                 купальники      11351   \n67     2601                      майки и топы бельевые      11351   \n68     2602                       корректирующее белье      11351   \n71     2605                                   колготки      10416   \n73     2607                                       часы       2606   \n...     ...                                        ...        ...   \n3346  14503                                     стекла      12899   \n3349  14538  запчасти для планшетов и электронных книг      10487   \n3350  14539                         радиаторы и кулеры      13073   \n3356  14546                   домашние платья и туники      11116   \n3359  14549                                    детские       2749   \n\n                                              full_path  \\\n65    одежда женская одежда белье и купальники купал...   \n67    одежда женская одежда белье и купальники майки...   \n68    одежда женская одежда белье и купальники корре...   \n71           одежда одежда для мальчиков носки колготки   \n73    аксессуары женские аксессуары часы и ремешки часы   \n...                                                 ...   \n3346  электроника умные часы и фитнес браслеты защит...   \n3349  электроника ноутбуки, планшеты и электронные к...   \n3350  электроника компьютерная техника комплектующие...   \n3356  одежда женская одежда домашняя одежда домашние...   \n3359  товары для дома товары для праздников карнавал...   \n\n                             full_path_id  \n65            [2599, 11351, 10116, 10014]  \n67            [2601, 11351, 10116, 10014]  \n68            [2602, 11351, 10116, 10014]  \n71            [2605, 10416, 10222, 10014]  \n73             [2607, 2606, 10023, 10003]  \n...                                   ...  \n3346         [14503, 12899, 10141, 10020]  \n3349         [14538, 10487, 10030, 10020]  \n3350  [14539, 13073, 10641, 10074, 10020]  \n3356         [14546, 11116, 10116, 10014]  \n3359   [14549, 2749, 13534, 10118, 10018]  \n\n[594 rows x 5 columns]",
      "text/html": "<div>\n<style scoped>\n    .dataframe tbody tr th:only-of-type {\n        vertical-align: middle;\n    }\n\n    .dataframe tbody tr th {\n        vertical-align: top;\n    }\n\n    .dataframe thead th {\n        text-align: right;\n    }\n</style>\n<table border=\"1\" class=\"dataframe\">\n  <thead>\n    <tr style=\"text-align: right;\">\n      <th></th>\n      <th>id</th>\n      <th>title</th>\n      <th>parent_id</th>\n      <th>full_path</th>\n      <th>full_path_id</th>\n    </tr>\n  </thead>\n  <tbody>\n    <tr>\n      <th>65</th>\n      <td>2599</td>\n      <td>купальники</td>\n      <td>11351</td>\n      <td>одежда женская одежда белье и купальники купал...</td>\n      <td>[2599, 11351, 10116, 10014]</td>\n    </tr>\n    <tr>\n      <th>67</th>\n      <td>2601</td>\n      <td>майки и топы бельевые</td>\n      <td>11351</td>\n      <td>одежда женская одежда белье и купальники майки...</td>\n      <td>[2601, 11351, 10116, 10014]</td>\n    </tr>\n    <tr>\n      <th>68</th>\n      <td>2602</td>\n      <td>корректирующее белье</td>\n      <td>11351</td>\n      <td>одежда женская одежда белье и купальники корре...</td>\n      <td>[2602, 11351, 10116, 10014]</td>\n    </tr>\n    <tr>\n      <th>71</th>\n      <td>2605</td>\n      <td>колготки</td>\n      <td>10416</td>\n      <td>одежда одежда для мальчиков носки колготки</td>\n      <td>[2605, 10416, 10222, 10014]</td>\n    </tr>\n    <tr>\n      <th>73</th>\n      <td>2607</td>\n      <td>часы</td>\n      <td>2606</td>\n      <td>аксессуары женские аксессуары часы и ремешки часы</td>\n      <td>[2607, 2606, 10023, 10003]</td>\n    </tr>\n    <tr>\n      <th>...</th>\n      <td>...</td>\n      <td>...</td>\n      <td>...</td>\n      <td>...</td>\n      <td>...</td>\n    </tr>\n    <tr>\n      <th>3346</th>\n      <td>14503</td>\n      <td>стекла</td>\n      <td>12899</td>\n      <td>электроника умные часы и фитнес браслеты защит...</td>\n      <td>[14503, 12899, 10141, 10020]</td>\n    </tr>\n    <tr>\n      <th>3349</th>\n      <td>14538</td>\n      <td>запчасти для планшетов и электронных книг</td>\n      <td>10487</td>\n      <td>электроника ноутбуки, планшеты и электронные к...</td>\n      <td>[14538, 10487, 10030, 10020]</td>\n    </tr>\n    <tr>\n      <th>3350</th>\n      <td>14539</td>\n      <td>радиаторы и кулеры</td>\n      <td>13073</td>\n      <td>электроника компьютерная техника комплектующие...</td>\n      <td>[14539, 13073, 10641, 10074, 10020]</td>\n    </tr>\n    <tr>\n      <th>3356</th>\n      <td>14546</td>\n      <td>домашние платья и туники</td>\n      <td>11116</td>\n      <td>одежда женская одежда домашняя одежда домашние...</td>\n      <td>[14546, 11116, 10116, 10014]</td>\n    </tr>\n    <tr>\n      <th>3359</th>\n      <td>14549</td>\n      <td>детские</td>\n      <td>2749</td>\n      <td>товары для дома товары для праздников карнавал...</td>\n      <td>[14549, 2749, 13534, 10118, 10018]</td>\n    </tr>\n  </tbody>\n</table>\n<p>594 rows × 5 columns</p>\n</div>"
     },
     "execution_count": 83,
     "metadata": {},
     "output_type": "execute_result"
    }
   ]
  },
  {
   "cell_type": "code",
   "source": [
    "vectorizer = CountVectorizer(ngram_range=(1,1), binary =True, max_features = 5000)"
   ],
   "metadata": {
    "id": "FZ9QTFGoPKr6"
   },
   "execution_count": 84,
   "outputs": []
  },
  {
   "cell_type": "code",
   "source": [
    "vectorizer.fit(train_data.description.values.tolist() + test_data.description.values.tolist())"
   ],
   "metadata": {
    "colab": {
     "base_uri": "https://localhost:8080/"
    },
    "id": "g3c4wAUPPKuP",
    "outputId": "6cba1ab9-440f-4cd4-b2fd-11f801852910"
   },
   "execution_count": 85,
   "outputs": [
    {
     "data": {
      "text/plain": "CountVectorizer(binary=True, max_features=5000)",
      "text/html": "<style>#sk-container-id-1 {color: black;background-color: white;}#sk-container-id-1 pre{padding: 0;}#sk-container-id-1 div.sk-toggleable {background-color: white;}#sk-container-id-1 label.sk-toggleable__label {cursor: pointer;display: block;width: 100%;margin-bottom: 0;padding: 0.3em;box-sizing: border-box;text-align: center;}#sk-container-id-1 label.sk-toggleable__label-arrow:before {content: \"▸\";float: left;margin-right: 0.25em;color: #696969;}#sk-container-id-1 label.sk-toggleable__label-arrow:hover:before {color: black;}#sk-container-id-1 div.sk-estimator:hover label.sk-toggleable__label-arrow:before {color: black;}#sk-container-id-1 div.sk-toggleable__content {max-height: 0;max-width: 0;overflow: hidden;text-align: left;background-color: #f0f8ff;}#sk-container-id-1 div.sk-toggleable__content pre {margin: 0.2em;color: black;border-radius: 0.25em;background-color: #f0f8ff;}#sk-container-id-1 input.sk-toggleable__control:checked~div.sk-toggleable__content {max-height: 200px;max-width: 100%;overflow: auto;}#sk-container-id-1 input.sk-toggleable__control:checked~label.sk-toggleable__label-arrow:before {content: \"▾\";}#sk-container-id-1 div.sk-estimator input.sk-toggleable__control:checked~label.sk-toggleable__label {background-color: #d4ebff;}#sk-container-id-1 div.sk-label input.sk-toggleable__control:checked~label.sk-toggleable__label {background-color: #d4ebff;}#sk-container-id-1 input.sk-hidden--visually {border: 0;clip: rect(1px 1px 1px 1px);clip: rect(1px, 1px, 1px, 1px);height: 1px;margin: -1px;overflow: hidden;padding: 0;position: absolute;width: 1px;}#sk-container-id-1 div.sk-estimator {font-family: monospace;background-color: #f0f8ff;border: 1px dotted black;border-radius: 0.25em;box-sizing: border-box;margin-bottom: 0.5em;}#sk-container-id-1 div.sk-estimator:hover {background-color: #d4ebff;}#sk-container-id-1 div.sk-parallel-item::after {content: \"\";width: 100%;border-bottom: 1px solid gray;flex-grow: 1;}#sk-container-id-1 div.sk-label:hover label.sk-toggleable__label {background-color: #d4ebff;}#sk-container-id-1 div.sk-serial::before {content: \"\";position: absolute;border-left: 1px solid gray;box-sizing: border-box;top: 0;bottom: 0;left: 50%;z-index: 0;}#sk-container-id-1 div.sk-serial {display: flex;flex-direction: column;align-items: center;background-color: white;padding-right: 0.2em;padding-left: 0.2em;position: relative;}#sk-container-id-1 div.sk-item {position: relative;z-index: 1;}#sk-container-id-1 div.sk-parallel {display: flex;align-items: stretch;justify-content: center;background-color: white;position: relative;}#sk-container-id-1 div.sk-item::before, #sk-container-id-1 div.sk-parallel-item::before {content: \"\";position: absolute;border-left: 1px solid gray;box-sizing: border-box;top: 0;bottom: 0;left: 50%;z-index: -1;}#sk-container-id-1 div.sk-parallel-item {display: flex;flex-direction: column;z-index: 1;position: relative;background-color: white;}#sk-container-id-1 div.sk-parallel-item:first-child::after {align-self: flex-end;width: 50%;}#sk-container-id-1 div.sk-parallel-item:last-child::after {align-self: flex-start;width: 50%;}#sk-container-id-1 div.sk-parallel-item:only-child::after {width: 0;}#sk-container-id-1 div.sk-dashed-wrapped {border: 1px dashed gray;margin: 0 0.4em 0.5em 0.4em;box-sizing: border-box;padding-bottom: 0.4em;background-color: white;}#sk-container-id-1 div.sk-label label {font-family: monospace;font-weight: bold;display: inline-block;line-height: 1.2em;}#sk-container-id-1 div.sk-label-container {text-align: center;}#sk-container-id-1 div.sk-container {/* jupyter's `normalize.less` sets `[hidden] { display: none; }` but bootstrap.min.css set `[hidden] { display: none !important; }` so we also need the `!important` here to be able to override the default hidden behavior on the sphinx rendered scikit-learn.org. See: https://github.com/scikit-learn/scikit-learn/issues/21755 */display: inline-block !important;position: relative;}#sk-container-id-1 div.sk-text-repr-fallback {display: none;}</style><div id=\"sk-container-id-1\" class=\"sk-top-container\"><div class=\"sk-text-repr-fallback\"><pre>CountVectorizer(binary=True, max_features=5000)</pre><b>In a Jupyter environment, please rerun this cell to show the HTML representation or trust the notebook. <br />On GitHub, the HTML representation is unable to render, please try loading this page with nbviewer.org.</b></div><div class=\"sk-container\" hidden><div class=\"sk-item\"><div class=\"sk-estimator sk-toggleable\"><input class=\"sk-toggleable__control sk-hidden--visually\" id=\"sk-estimator-id-1\" type=\"checkbox\" checked><label for=\"sk-estimator-id-1\" class=\"sk-toggleable__label sk-toggleable__label-arrow\">CountVectorizer</label><div class=\"sk-toggleable__content\"><pre>CountVectorizer(binary=True, max_features=5000)</pre></div></div></div></div></div>"
     },
     "execution_count": 85,
     "metadata": {},
     "output_type": "execute_result"
    }
   ]
  },
  {
   "cell_type": "code",
   "source": [
    "train_features = vectorizer.transform(train_data.description.values)\n",
    "test_features = vectorizer.transform(test_data.description.values)"
   ],
   "metadata": {
    "id": "BU2YyvYGPwrZ"
   },
   "execution_count": 86,
   "outputs": []
  },
  {
   "cell_type": "code",
   "source": [
    "labels_data = train_data[['category_id', 'new_category']]\n",
    "\n",
    "x_train, x_val, y_train, y_val = train_test_split(train_features, \n",
    "                                                    labels_data,\n",
    "                                                    test_size=0.3,\n",
    "                                                    shuffle=True, \n",
    "                                                    random_state=100)"
   ],
   "metadata": {
    "id": "med49hHwcvUc"
   },
   "execution_count": 87,
   "outputs": []
  },
  {
   "cell_type": "markdown",
   "source": [
    "# Model"
   ],
   "metadata": {
    "id": "P84hYLbhQRyi"
   }
  },
  {
   "cell_type": "code",
   "source": [
    "%%time\n",
    "model = LogisticRegression(C=1.0)\n",
    "model.fit(x_train, y_train[['new_category']])"
   ],
   "metadata": {
    "colab": {
     "base_uri": "https://localhost:8080/"
    },
    "id": "YRKvEB8VQuoJ",
    "outputId": "a8ca93c5-5ef7-4443-d201-d31e1e213537"
   },
   "execution_count": 70,
   "outputs": [
    {
     "output_type": "stream",
     "name": "stderr",
     "text": [
      "/usr/local/lib/python3.8/dist-packages/sklearn/utils/validation.py:993: DataConversionWarning: A column-vector y was passed when a 1d array was expected. Please change the shape of y to (n_samples, ), for example using ravel().\n",
      "  y = column_or_1d(y, warn=True)\n"
     ]
    },
    {
     "output_type": "stream",
     "name": "stdout",
     "text": [
      "CPU times: user 9min 5s, sys: 3min 19s, total: 12min 25s\n",
      "Wall time: 11min 59s\n"
     ]
    },
    {
     "output_type": "stream",
     "name": "stderr",
     "text": [
      "/usr/local/lib/python3.8/dist-packages/sklearn/linear_model/_logistic.py:814: ConvergenceWarning: lbfgs failed to converge (status=1):\n",
      "STOP: TOTAL NO. of ITERATIONS REACHED LIMIT.\n",
      "\n",
      "Increase the number of iterations (max_iter) or scale the data as shown in:\n",
      "    https://scikit-learn.org/stable/modules/preprocessing.html\n",
      "Please also refer to the documentation for alternative solver options:\n",
      "    https://scikit-learn.org/stable/modules/linear_model.html#logistic-regression\n",
      "  n_iter_i = _check_optimize_result(\n"
     ]
    },
    {
     "output_type": "execute_result",
     "data": {
      "text/plain": [
       "LogisticRegression()"
      ]
     },
     "metadata": {},
     "execution_count": 70
    }
   ]
  },
  {
   "cell_type": "code",
   "source": [
    "predicts = model.predict(x_val)"
   ],
   "metadata": {
    "id": "F8cc5Gl3grkM"
   },
   "execution_count": 71,
   "outputs": []
  },
  {
   "cell_type": "code",
   "source": [
    "decoder = dict(categories_data.loc[categories_data.full_path_id != '', ['id', 'full_path_id']].values)"
   ],
   "metadata": {
    "id": "wf7Dtoa-vbV3"
   },
   "execution_count": 90,
   "outputs": []
  },
  {
   "cell_type": "code",
   "execution_count": 91,
   "outputs": [
    {
     "data": {
      "text/plain": "{2599: [2599, 11351, 10116, 10014],\n 2601: [2601, 11351, 10116, 10014],\n 2602: [2602, 11351, 10116, 10014],\n 2605: [2605, 10416, 10222, 10014],\n 2607: [2607, 2606, 10023, 10003],\n 2610: [2610, 2609, 10021, 10003],\n 2631: [2631, 11328, 10091, 10012],\n 2632: [2632, 11328, 10091, 10012],\n 2634: [2634, 10648, 10137, 10012],\n 2635: [2635, 10648, 10137, 10012],\n 2636: [2636, 10648, 10137, 10012],\n 2662: [2662, 10476, 10137, 10012],\n 2663: [2663, 10137, 10012],\n 2674: [2674, 2673, 10012],\n 2677: [2677, 13817, 10169, 10012],\n 2690: [2690, 10163, 10012],\n 2691: [2691, 10113, 10012],\n 2692: [2692, 10113, 10012],\n 2693: [2693, 10355, 10113, 10012],\n 2725: [2725, 10282, 10115, 10018],\n 2728: [2728, 10282, 10115, 10018],\n 2729: [2729, 10890, 10115, 10018],\n 2730: [2730, 10191, 10018],\n 2733: [2733, 12823, 10110, 10018],\n 2737: [2737, 12842, 10110, 10018],\n 2739: [2739, 12842, 10110, 10018],\n 2740: [2740, 12842, 10110, 10018],\n 2741: [2741, 12842, 10110, 10018],\n 2742: [2742, 12842, 10110, 10018],\n 2743: [2743, 12842, 10110, 10018],\n 2744: [2744, 12842, 10110, 10018],\n 2747: [2747, 10508, 10118, 10018],\n 2748: [2748, 13534, 10118, 10018],\n 2750: [2750, 13534, 10118, 10018],\n 2803: [2803, 11157, 10144, 10020],\n 2804: [2804, 10641, 10074, 10020],\n 2807: [2807, 10014],\n 2815: [2815, 2809, 2807, 10014],\n 2821: [2821, 2811, 2807, 10014],\n 2824: [2824, 2812, 2808, 2807, 10014],\n 2825: [2825, 2812, 2808, 2807, 10014],\n 2827: [2827, 2812, 2808, 2807, 10014],\n 2833: [2833, 2812, 2808, 2807, 10014],\n 2837: [2837, 2815, 2809, 2807, 10014],\n 2838: [2838, 2815, 2809, 2807, 10014],\n 2851: [2851, 2818, 2810, 2807, 10014],\n 2858: [2858, 2821, 2811, 2807, 10014],\n 2867: [2867, 2609, 10021, 10003],\n 2894: [2894, 10018],\n 10012: [10012],\n 10014: [10014],\n 10018: [10018],\n 10020: [10020],\n 10021: [10021, 10003],\n 10022: [10022, 10003],\n 10023: [10023, 10003],\n 10024: [10024, 10003],\n 10026: [10026, 10003],\n 10033: [10033, 10021, 10003],\n 10034: [10034, 10014],\n 10044: [10044, 10020],\n 10058: [10058, 10018],\n 10060: [10060, 10023, 10003],\n 10070: [10070, 10012],\n 10073: [10073, 10020],\n 10080: [10080, 10023, 10003],\n 10081: [10081, 10021, 10003],\n 10084: [10084, 10012],\n 10086: [10086, 10020],\n 10094: [10094, 10012],\n 10095: [10095, 10014],\n 10104: [10104, 10023, 10003],\n 10115: [10115, 10018],\n 10116: [10116, 10014],\n 10117: [10117, 10026, 10003],\n 10118: [10118, 10018],\n 10140: [10140, 10021, 10003],\n 10141: [10141, 10020],\n 10146: [10146, 10021, 10003],\n 10154: [10154, 10024, 10003],\n 10164: [10164, 10023, 10003],\n 10166: [10166, 10014],\n 10169: [10169, 10012],\n 10180: [10180, 10020],\n 10184: [10184, 10018],\n 10186: [10186, 10020],\n 10191: [10191, 10018],\n 10214: [10214, 10023, 10003],\n 10219: [10219, 10018],\n 10221: [10221, 10014],\n 10222: [10222, 10014],\n 10226: [10226, 10020],\n 10232: [10232, 10012],\n 10260: [10260, 10221, 10014],\n 10262: [10262, 10049, 10018],\n 10282: [10282, 10115, 10018],\n 10289: [10289, 10115, 10018],\n 10317: [10317, 10165, 10012],\n 10374: [10374, 10144, 10020],\n 10390: [10390, 10115, 10018],\n 10398: [10398, 10044, 10020],\n 10445: [10445, 10052, 10014],\n 10484: [10484, 10221, 10014],\n 10487: [10487, 10030, 10020],\n 10526: [10526, 10074, 10020],\n 10545: [10545, 10115, 10018],\n 10559: [10559, 10110, 10018],\n 10622: [10622, 10115, 10018],\n 10626: [10626, 10070, 10012],\n 10634: [10634, 10222, 10014],\n 10641: [10641, 10074, 10020],\n 10646: [10646, 10186, 10020],\n 10648: [10648, 10137, 10012],\n 10651: [10651, 10115, 10018],\n 10705: [10705, 10165, 10012],\n 10749: [10749, 10118, 10018],\n 10751: [10751, 10137, 10012],\n 10765: [10765, 10180, 10020],\n 10770: [10770, 10049, 10018],\n 10785: [10785, 10116, 10014],\n 10805: [10805, 10049, 10018],\n 10806: [10806, 10052, 10014],\n 10858: [10858, 10049, 10018],\n 10867: [10867, 10222, 10014],\n 10875: [10875, 10222, 10014],\n 10879: [10879, 10221, 10014],\n 10890: [10890, 10115, 10018],\n 10918: [10918, 10070, 10012],\n 10922: [10922, 10115, 10018],\n 10934: [10934, 10118, 10018],\n 10937: [10937, 10052, 10014],\n 10940: [10940, 10052, 10014],\n 10950: [10950, 10226, 10020],\n 10956: [10956, 10116, 10014],\n 10992: [10992, 10115, 10018],\n 11080: [11080, 10221, 10014],\n 11092: [11092, 10115, 10018],\n 11097: [11097, 10115, 10018],\n 11099: [11099, 10049, 10018],\n 11120: [11120, 10115, 10018],\n 11129: [11129, 10115, 10018],\n 11157: [11157, 10144, 10020],\n 11215: [11215, 10115, 10018],\n 11245: [11245, 10137, 10012],\n 11285: [11285, 10165, 10012],\n 11291: [11291, 10094, 10012],\n 11292: [11292, 10091, 10012],\n 11328: [11328, 10091, 10012],\n 11350: [11350, 10074, 10020],\n 11351: [11351, 10116, 10014],\n 11376: [11376, 10049, 10018],\n 11390: [11390, 10115, 10018],\n 11405: [11405, 10052, 10014],\n 11449: [11449, 10165, 10012],\n 11519: [11519, 10115, 10018],\n 11530: [11530, 11370, 10070, 10012],\n 11533: [11533, 10992, 10115, 10018],\n 11552: [11552, 10060, 10023, 10003],\n 11554: [11554, 10140, 10021, 10003],\n 11560: [11560, 10095, 10014],\n 11567: [11567, 10589, 10104, 10023, 10003],\n 11568: [11568, 10483, 10049, 10018],\n 11573: [11573, 10445, 10052, 10014],\n 11574: [11574, 10104, 10023, 10003],\n 11580: [11580, 10045, 10023, 10003],\n 11581: [11581, 10191, 10018],\n 11587: [11587, 11384, 10129, 10020],\n 11597: [11597, 10154, 10024, 10003],\n 11600: [11600, 11449, 10165, 10012],\n 11602: [11602, 10877, 10222, 10014],\n 11603: [11603, 11333, 10094, 10012],\n 11613: [11613, 10214, 10023, 10003],\n 11617: [11617, 10191, 10018],\n 11622: [11622, 10289, 10115, 10018],\n 11635: [11635, 10918, 10070, 10012],\n 11636: [11636, 10770, 10049, 10018],\n 11637: [11637, 10377, 10115, 10018],\n 11639: [11639, 10146, 10021, 10003],\n 11647: [11647, 10751, 10137, 10012],\n 11648: [11648, 11215, 10115, 10018],\n 11655: [11655, 10163, 10012],\n 11657: [11657, 10559, 10110, 10018],\n 11658: [11658, 11099, 10049, 10018],\n 11674: [11674, 10890, 10115, 10018],\n 11681: [11681, 10705, 10165, 10012],\n 11694: [11694, 10404, 10221, 10014],\n 11716: [11716, 10160, 10024, 10003],\n 11719: [11719, 10172, 10023, 10003],\n 11725: [11725, 10696, 10091, 10012],\n 11731: [11731, 10118, 10018],\n 11735: [11735, 10881, 10052, 10014],\n 11736: [11736, 10163, 10012],\n 11745: [11745, 10160, 10024, 10003],\n 11750: [11750, 10172, 10023, 10003],\n 11756: [11756, 10073, 10020],\n 11757: [11757, 11163, 10118, 10018],\n 11761: [11761, 10143, 10023, 10003],\n 11762: [11762, 10992, 10115, 10018],\n 11764: [11764, 10262, 10049, 10018],\n 11770: [11770, 10060, 10023, 10003],\n 11774: [11774, 11304, 10116, 10014],\n 11790: [11790, 11163, 10118, 10018],\n 11799: [11799, 10968, 10091, 10012],\n 11805: [11805, 11166, 10116, 10014],\n 11813: [11813, 10107, 10023, 10003],\n 11825: [11825, 11099, 10049, 10018],\n 11826: [11826, 11092, 10115, 10018],\n 11828: [11828, 10289, 10115, 10018],\n 11838: [11838, 11120, 10115, 10018],\n 11844: [11844, 10225, 10026, 10003],\n 11846: [11846, 11306, 10221, 10014],\n 11856: [11856, 10022, 10003],\n 11863: [11863, 10918, 10070, 10012],\n 11864: [11864, 10908, 10129, 10020],\n 11872: [11872, 10355, 10113, 10012],\n 11878: [11878, 10705, 10165, 10012],\n 11881: [11881, 10749, 10118, 10018],\n 11889: [11889, 10890, 10115, 10018],\n 11894: [11894, 10104, 10023, 10003],\n 11896: [11896, 10377, 10115, 10018],\n 11907: [11907, 11438, 10070, 10012],\n 11931: [11931, 10586, 10115, 10018],\n 11937: [11937, 10398, 10044, 10020],\n 11944: [11944, 11390, 10115, 10018],\n 11956: [11956, 11166, 10116, 10014],\n 11957: [11957, 10918, 10070, 10012],\n 11971: [11971, 10022, 10003],\n 11978: [11978, 10890, 10115, 10018],\n 11980: [11980, 10806, 10052, 10014],\n 11984: [11984, 11015, 10091, 10012],\n 11999: [11999, 10377, 10115, 10018],\n 12004: [12004, 10545, 10115, 10018],\n 12024: [12024, 10597, 10116, 10014],\n 12032: [12032, 11291, 10094, 10012],\n 12044: [12044, 10890, 10115, 10018],\n 12045: [12045, 10487, 10030, 10020],\n 12049: [12049, 10073, 10020],\n 12050: [12050, 10355, 10113, 10012],\n 12062: [12062, 10739, 10052, 10014],\n 12071: [12071, 10080, 10023, 10003],\n 12076: [12076, 11092, 10115, 10018],\n 12078: [12078, 10107, 10023, 10003],\n 12082: [12082, 10390, 10115, 10018],\n 12084: [12084, 10014],\n 12088: [12088, 10533, 10116, 10014],\n 12100: [12100, 10908, 10129, 10020],\n 12109: [12109, 10152, 10024, 10003],\n 12114: [12114, 10163, 10012],\n 12128: [12128, 11264, 10116, 10014],\n 12143: [12143, 10317, 10165, 10012],\n 12144: [12144, 10696, 10091, 10012],\n 12154: [12154, 10081, 10021, 10003],\n 12157: [12157, 10695, 10186, 10020],\n 12159: [12159, 10104, 10023, 10003],\n 12161: [12161, 11092, 10115, 10018],\n 12162: [12162, 10160, 10024, 10003],\n 12164: [12164, 10191, 10018],\n 12171: [12171, 11281, 10398, 10044, 10020],\n 12176: [12176, 10058, 10018],\n 12192: [12192, 10822, 10222, 10014],\n 12197: [12197, 10095, 10014],\n 12210: [12210, 11163, 10118, 10018],\n 12222: [12222, 10073, 10020],\n 12228: [12228, 10060, 10023, 10003],\n 12230: [12230, 10219, 10018],\n 12246: [12246, 11215, 10115, 10018],\n 12247: [12247, 10185, 10012],\n 12250: [12250, 11340, 10116, 10014],\n 12251: [12251, 10184, 10018],\n 12254: [12254, 10087, 10026, 10003],\n 12265: [12265, 10533, 10116, 10014],\n 12267: [12267, 11390, 10115, 10018],\n 12268: [12268, 10073, 10020],\n 12272: [12272, 10937, 10052, 10014],\n 12273: [12273, 10227, 10020],\n 12280: [12280, 10102, 10021, 10003],\n 12282: [12282, 11405, 10052, 10014],\n 12297: [12297, 10210, 10026, 10003],\n 12301: [12301, 10545, 10115, 10018],\n 12302: [12302, 10033, 10021, 10003],\n 12308: [12308, 11239, 10165, 10012],\n 12315: [12315, 11328, 10091, 10012],\n 12328: [12328, 10398, 10044, 10020],\n 12330: [12330, 11204, 10070, 10012],\n 12338: [12338, 10651, 10115, 10018],\n 12341: [12341, 10751, 10137, 10012],\n 12350: [12350, 10705, 10165, 10012],\n 12352: [12352, 10622, 10115, 10018],\n 12354: [12354, 10177, 10021, 10003],\n 12376: [12376, 10110, 10018],\n 12378: [12378, 10152, 10024, 10003],\n 12381: [12381, 10073, 10020],\n 12394: [12394, 11328, 10091, 10012],\n 12395: [12395, 11292, 10091, 10012],\n 12401: [12401, 10191, 10018],\n 12405: [12405, 10648, 10137, 10012],\n 12407: [12407, 10586, 10115, 10018],\n 12409: [12409, 10648, 10137, 10012],\n 12415: [12415, 10095, 10014],\n 12422: [12422, 10191, 10018],\n 12427: [12427, 11204, 10070, 10012],\n 12428: [12428, 10822, 10222, 10014],\n 12434: [12434, 10160, 10024, 10003],\n 12439: [12439, 11292, 10091, 10012],\n 12451: [12451, 10104, 10023, 10003],\n 12454: [12454, 10113, 10012],\n 12456: [12456, 11116, 10116, 10014],\n 12460: [12460, 10110, 10018],\n 12466: [12466, 11292, 10091, 10012],\n 12476: [12476, 10589, 10104, 10023, 10003],\n 12477: [12477, 10968, 10091, 10012],\n 12478: [12478, 10184, 10018],\n 12479: [12479, 10110, 10018],\n 12481: [12481, 10858, 10049, 10018],\n 12482: [12482, 11116, 10116, 10014],\n 12483: [12483, 10049, 10018],\n 12493: [12493, 11306, 10221, 10014],\n 12509: [12509, 10084, 10012],\n 12510: [12510, 11370, 10070, 10012],\n 12512: [12512, 10080, 10023, 10003],\n 12514: [12514, 11157, 10144, 10020],\n 12517: [12517, 11129, 10115, 10018],\n 12521: [12521, 11292, 10091, 10012],\n 12523: [12523, 10052, 10014],\n 12524: [12524, 11120, 10115, 10018],\n 12526: [12526, 11027, 10094, 10012],\n 12534: [12534, 10045, 10023, 10003],\n 12539: [12539, 10890, 10115, 10018],\n 12541: [12541, 11027, 10094, 10012],\n 12545: [12545, 10191, 10018],\n 12548: [12548, 10558, 10221, 10014],\n 12556: [12556, 10081, 10021, 10003],\n 12558: [12558, 10968, 10091, 10012],\n 12567: [12567, 10222, 10014],\n 12579: [12579, 10589, 10104, 10023, 10003],\n 12589: [12589, 11333, 10094, 10012],\n 12595: [12595, 10045, 10023, 10003],\n 12604: [12604, 10934, 10118, 10018],\n 12616: [12616, 11285, 10165, 10012],\n 12618: [12618, 10139, 10021, 10003],\n 12624: [12624, 10404, 10221, 10014],\n 12630: [12630, 11163, 10118, 10018],\n 12638: [12638, 10858, 10049, 10018],\n 12642: [12642, 11292, 10091, 10012],\n 12648: [12648, 10084, 10012],\n 12652: [12652, 10749, 10118, 10018],\n 12657: [12657, 11351, 10116, 10014],\n 12658: [12658, 10597, 10116, 10014],\n 12660: [12660, 10107, 10023, 10003],\n 12666: [12666, 10232, 10012],\n 12667: [12667, 10992, 10115, 10018],\n 12669: [12669, 10191, 10018],\n 12674: [12674, 10805, 10049, 10018],\n 12690: [12690, 10044, 10020],\n 12694: [12694, 10126, 10024, 10003],\n 12699: [12699, 10177, 10021, 10003],\n 12713: [12713, 10262, 10049, 10018],\n 12718: [12718, 10184, 10018],\n 12730: [12730, 10934, 10118, 10018],\n 12731: [12731, 10219, 10018],\n 12736: [12736, 10696, 10091, 10012],\n 12741: [12741, 10559, 10110, 10018],\n 12743: [12743, 10118, 10018],\n 12751: [12751, 10152, 10024, 10003],\n 12755: [12755, 10141, 10020],\n 12761: [12761, 10705, 10165, 10012],\n 12768: [12768, 11379, 10116, 10014],\n 12781: [12781, 10398, 10044, 10020],\n 12788: [12788, 11390, 10115, 10018],\n 12813: [12813, 10104, 10023, 10003],\n 12819: [12819, 10212, 10023, 10003],\n 12823: [12823, 10110, 10018],\n 12829: [12829, 10084, 10012],\n 12834: [12834, 11116, 10116, 10014],\n 12841: [12841, 10651, 10115, 10018],\n 12842: [12842, 10110, 10018],\n 12863: [12863, 10545, 10115, 10018],\n 12869: [12869, 10110, 10018],\n 12870: [12870, 10648, 10137, 10012],\n 12882: [12882, 10918, 10070, 10012],\n 12895: [12895, 10113, 10012],\n 12909: [12909, 11017, 10221, 10014],\n 12910: [12910, 11306, 10221, 10014],\n 12913: [12913, 10095, 10014],\n 12914: [12914, 10191, 10018],\n 12919: [12919, 11254, 10180, 10020],\n 12920: [12920, 10447, 10169, 10012],\n 12943: [12943, 10934, 10118, 10018],\n 12948: [12948, 10146, 10021, 10003],\n 12952: [12952, 10073, 10020],\n 12956: [12956, 10262, 10049, 10018],\n 12964: [12964, 10073, 10020],\n 12978: [12978, 10023, 10003],\n 12980: [12980, 11157, 10144, 10020],\n 12984: [12984, 10134, 10021, 10003],\n 12991: [12991, 10104, 10023, 10003],\n 12992: [12992, 10319, 10221, 10014],\n 13021: [13021, 10113, 10012],\n 13024: [13024, 11264, 10116, 10014],\n 13027: [13027, 11519, 10115, 10018],\n 13040: [13040, 10166, 10014],\n 13049: [13049, 10968, 10091, 10012],\n 13061: [13061, 10104, 10023, 10003],\n 13063: [13063, 10163, 10012],\n 13066: [13066, 10398, 10044, 10020],\n 13069: [13069, 10500, 10116, 10014],\n 13083: [13083, 10374, 10144, 10020],\n 13091: [13091, 10113, 10012],\n 13094: [13094, 11017, 10221, 10014],\n 13095: [13095, 11254, 10180, 10020],\n 13114: [13114, 11015, 10091, 10012],\n 13139: [13139, 11245, 10137, 10012],\n 13143: [13143, 10533, 10116, 10014],\n 13155: [13155, 10918, 10070, 10012],\n 13162: [13162, 11370, 10070, 10012],\n 13165: [13165, 10033, 10021, 10003],\n 13166: [13166, 10146, 10021, 10003],\n 13171: [13171, 10881, 10052, 10014],\n 13172: [13172, 10879, 10221, 10014],\n 13182: [13182, 10749, 10118, 10018],\n 13187: [13187, 10526, 10074, 10020],\n 13192: [13192, 10355, 10113, 10012],\n 13199: [13199, 10890, 10115, 10018],\n 13201: [13201, 11449, 10165, 10012],\n 13203: [13203, 10476, 10137, 10012],\n 13205: [13205, 11116, 10116, 10014],\n 13207: [13207, 10770, 10049, 10018],\n 13220: [13220, 10663, 10116, 10014],\n 13227: [13227, 10166, 10014],\n 13253: [13253, 10313, 10052, 10014],\n 13254: [13254, 10390, 10115, 10018],\n 13260: [13260, 10559, 10110, 10018],\n 13268: [13268, 10143, 10023, 10003],\n 13269: [13269, 10751, 10137, 10012],\n 13271: [13271, 10890, 10115, 10018],\n 13274: [13274, 10154, 10024, 10003],\n 13277: [13277, 10118, 10018],\n 13297: [13297, 10992, 10115, 10018],\n 13299: [13299, 10374, 10144, 10020],\n 13302: [13302, 11097, 10115, 10018],\n 13312: [13312, 10082, 10026, 10003],\n 13322: [13322, 11390, 10115, 10018],\n 13324: [13324, 10516, 10221, 10014],\n 13327: [13327, 10533, 10116, 10014],\n 13328: [13328, 10934, 10118, 10018],\n 13344: [13344, 11204, 10070, 10012],\n 13352: [13352, 11304, 10116, 10014],\n 13358: [13358, 10858, 10049, 10018],\n 13362: [13362, 10073, 10020],\n 13365: [13365, 10214, 10023, 10003],\n 13381: [13381, 10141, 10020],\n 13384: [13384, 11379, 10116, 10014],\n 13393: [13393, 10107, 10023, 10003],\n 13403: [13403, 10589, 10104, 10023, 10003],\n 13407: [13407, 11163, 10118, 10018],\n 13408: [13408, 10398, 10044, 10020],\n 13409: [13409, 10937, 10052, 10014],\n 13414: [13414, 10282, 10115, 10018],\n 13419: [13419, 10355, 10113, 10012],\n 13424: [13424, 11351, 10116, 10014],\n 13427: [13427, 10805, 10049, 10018],\n 13434: [13434, 10219, 10018],\n 13442: [13442, 10696, 10091, 10012],\n 13451: [13451, 10095, 10014],\n 13466: [13466, 10214, 10023, 10003],\n 13474: [13474, 10289, 10115, 10018],\n 13486: [13486, 10164, 10023, 10003],\n 13495: [13495, 10508, 10118, 10018],\n 13507: [13507, 10081, 10021, 10003],\n 13509: [13509, 10934, 10118, 10018],\n 13511: [13511, 11379, 10116, 10014],\n 13515: [13515, 10034, 10014],\n 13527: [13527, 10143, 10023, 10003],\n 13528: [13528, 10143, 10023, 10003],\n 13530: [13530, 11292, 10091, 10012],\n 13533: [13533, 10483, 10049, 10018],\n 13537: [13537, 10095, 10014],\n 13545: [13545, 10219, 10018],\n 13552: [13552, 10968, 10091, 10012],\n 13554: [13554, 11092, 10115, 10018],\n 13564: [13564, 10634, 10222, 10014],\n 13588: [13588, 11390, 10115, 10018],\n 13589: [13589, 10166, 10014],\n 13594: [13594, 10260, 10221, 10014],\n 13604: [13604, 10163, 10012],\n 13613: [13613, 11215, 10115, 10018],\n 13614: [13614, 10104, 10023, 10003],\n 13615: [13615, 10282, 10115, 10018],\n 13616: [13616, 11351, 10116, 10014],\n 13619: [13619, 10108, 10021, 10003],\n 13648: [13648, 11025, 10221, 10014],\n 13649: [13649, 10177, 10021, 10003],\n 13674: [13674, 10992, 10115, 10018],\n 13676: [13676, 10177, 10021, 10003],\n 13684: [13684, 10597, 10116, 10014],\n 13694: [13694, 10696, 10091, 10012],\n 13700: [13700, 11025, 10221, 10014],\n 13704: [13704, 10956, 10116, 10014],\n 13708: [13708, 11204, 10070, 10012],\n 13712: [13712, 10559, 10110, 10018],\n 13714: [13714, 10484, 10221, 10014],\n 13726: [13726, 10785, 10116, 10014],\n 13727: [13727, 10770, 10049, 10018],\n 13729: [13729, 10033, 10021, 10003],\n 13745: [13745, 10663, 10116, 10014],\n 13755: [13755, 10191, 10018],\n 13770: [13770, 10890, 10115, 10018],\n 13775: [13775, 10867, 10222, 10014],\n 13786: [13786, 11087, 10074, 10020],\n 13795: [13795, 11092, 10115, 10018],\n 13798: [13798, 10289, 10115, 10018],\n 13799: [13799, 10049, 10018],\n 13803: [13803, 10739, 10052, 10014],\n 13806: [13806, 10956, 10116, 10014],\n 13808: [13808, 10751, 10137, 10012],\n 13816: [13816, 10137, 10012],\n 13824: [13824, 11285, 10165, 10012],\n 13827: [13827, 10223, 10024, 10003],\n 13833: [13833, 10508, 10118, 10018],\n 13835: [13835, 10191, 10018],\n 13839: [13839, 10052, 10014],\n 13880: [13880, 11027, 10094, 10012],\n 13883: [13883, 10113, 10012],\n 13887: [13887, 10390, 10115, 10018],\n 13898: [13898, 10060, 10023, 10003],\n 13901: [13901, 10992, 10115, 10018],\n 13904: [13904, 11086, 10222, 10014],\n 13905: [13905, 10260, 10221, 10014],\n 13906: [13906, 10160, 10024, 10003],\n 13938: [13938, 11328, 10091, 10012],\n 13941: [13941, 10355, 10113, 10012],\n 13954: [13954, 10219, 10018],\n 13956: [13956, 10191, 10018],\n 13963: [13963, 10107, 10023, 10003],\n 13973: [13973, 2894, 10018],\n 13982: [13982, 11166, 10116, 10014],\n 13989: [13989, 11015, 10091, 10012],\n 13995: [13995, 10113, 10012],\n 14003: [14003, 10191, 10018],\n 14007: [14007, 10152, 10024, 10003],\n 14008: [14008, 10222, 10014],\n 14011: [14011, 10890, 10115, 10018],\n 14014: [14014, 10822, 10222, 10014],\n 14019: [14019, 11519, 10115, 10018],\n 14030: [14030, 10890, 10115, 10018],\n 14034: [14034, 10080, 10023, 10003],\n 14036: [14036, 10890, 10115, 10018],\n 14037: [14037, 10073, 10020],\n 14050: [14050, 11379, 10116, 10014],\n 14065: [14065, 10073, 10020],\n 14075: [14075, 11015, 10091, 10012],\n 14076: [14076, 10214, 10023, 10003],\n 14081: [14081, 10094, 10012],\n 14095: [14095, 10110, 10018],\n 14099: [14099, 10416, 10222, 10014],\n 14103: [14103, 10545, 10115, 10018],\n 14111: [14111, 10890, 10115, 10018],\n 14113: [14113, 10918, 10070, 10012],\n 14123: [14123, 11291, 10094, 10012],\n 14125: [14125, 10476, 10137, 10012],\n 14133: [14133, 10080, 10023, 10003],\n 14141: [14141, 10104, 10023, 10003],\n 14153: [14153, 10289, 10115, 10018],\n 14158: [14158, 10559, 10110, 10018],\n 14161: [14161, 10268, 10222, 10014],\n 14171: [14171, 10339, 10222, 10014],\n 14191: [14191, 11340, 10116, 10014],\n 14216: [14216, 11166, 10116, 10014],\n 14219: [14219, 10648, 10137, 10012],\n 14220: [14220, 11449, 10165, 10012],\n 14221: [14221, 10559, 10110, 10018],\n 14225: [14225, 11281, 10398, 10044, 10020],\n 14233: [14233, 11351, 10116, 10014],\n 14235: [14235, 10526, 10074, 10020],\n 14241: [14241, 10398, 10044, 10020],\n 14242: [14242, 10597, 10116, 10014],\n 14244: [14244, 11292, 10091, 10012],\n 14251: [14251, 10968, 10091, 10012],\n 14265: [14265, 10508, 10118, 10018],\n 14274: [14274, 10508, 10118, 10018],\n 14276: [14276, 10212, 10023, 10003],\n 14278: [14278, 10867, 10222, 10014],\n 14279: [14279, 10663, 10116, 10014],\n 14281: [14281, 10223, 10024, 10003],\n 14282: [14282, 10060, 10023, 10003],\n 14365: [14365, 10221, 10014],\n 14379: [14379, 2894, 10018],\n 14433: [14433, 10084, 10012],\n 14434: [14434, 10084, 10012],\n 14503: [14503, 12899, 10141, 10020],\n 14538: [14538, 10487, 10030, 10020],\n 14539: [14539, 13073, 10641, 10074, 10020],\n 14546: [14546, 11116, 10116, 10014],\n 14549: [14549, 2749, 13534, 10118, 10018]}"
     },
     "execution_count": 91,
     "metadata": {},
     "output_type": "execute_result"
    }
   ],
   "source": [
    "decoder"
   ],
   "metadata": {
    "collapsed": false
   }
  },
  {
   "cell_type": "code",
   "source": [
    "predicts_paths = [decoder[pred] for pred in predicts]"
   ],
   "metadata": {
    "id": "ziIE2vsJx0-P"
   },
   "execution_count": 73,
   "outputs": []
  },
  {
   "cell_type": "code",
   "source": [
    "true_paths = [decoder[pred] for pred in y_val.category_id.values]"
   ],
   "metadata": {
    "id": "UuRt05iFyBPy"
   },
   "execution_count": 74,
   "outputs": []
  },
  {
   "cell_type": "code",
   "source": [
    "hierarchical_f1_score(predicts=predicts_paths, \n",
    "                      true=true_paths)"
   ],
   "metadata": {
    "colab": {
     "base_uri": "https://localhost:8080/"
    },
    "id": "mcKas_i9s1ON",
    "outputId": "c9c56544-609e-48cf-fc81-0a3737aec38a"
   },
   "execution_count": 75,
   "outputs": [
    {
     "output_type": "execute_result",
     "data": {
      "text/plain": [
       "0.8704524197643034"
      ]
     },
     "metadata": {},
     "execution_count": 75
    }
   ]
  },
  {
   "cell_type": "code",
   "source": [
    "train_preds = model.predict(x_train)"
   ],
   "metadata": {
    "id": "Tut8pF7TtQ73"
   },
   "execution_count": 76,
   "outputs": []
  },
  {
   "cell_type": "code",
   "source": [
    "train_predicts_paths = [decoder[pred] for pred in train_preds]\n",
    "true_predicts_paths = [decoder[pred] for pred in y_train.category_id.values]"
   ],
   "metadata": {
    "id": "0cuQQjJAUWje"
   },
   "execution_count": 77,
   "outputs": []
  },
  {
   "cell_type": "code",
   "source": [
    "hierarchical_f1_score(predicts=train_predicts_paths, \n",
    "                      true=true_predicts_paths)"
   ],
   "metadata": {
    "colab": {
     "base_uri": "https://localhost:8080/"
    },
    "id": "xGH4GbRIUfNI",
    "outputId": "762924e5-e23f-46e1-ef5c-354688db0dbd"
   },
   "execution_count": 78,
   "outputs": [
    {
     "output_type": "execute_result",
     "data": {
      "text/plain": [
       "0.9118014492820106"
      ]
     },
     "metadata": {},
     "execution_count": 78
    }
   ]
  },
  {
   "cell_type": "code",
   "source": [
    "predicts_final = model.predict(test_features)"
   ],
   "metadata": {
    "id": "U-XdMWgSX4Ak"
   },
   "execution_count": 79,
   "outputs": []
  },
  {
   "cell_type": "code",
   "source": [
    "predicts_final"
   ],
   "metadata": {
    "colab": {
     "base_uri": "https://localhost:8080/"
    },
    "id": "MKQPH2ieYaiK",
    "outputId": "a6d96a74-ba20-428d-a7fa-19706376fbac"
   },
   "execution_count": 80,
   "outputs": [
    {
     "output_type": "execute_result",
     "data": {
      "text/plain": [
       "array([11574, 11878, 13299, ..., 14171, 13069, 14034])"
      ]
     },
     "metadata": {},
     "execution_count": 80
    }
   ]
  },
  {
   "cell_type": "code",
   "source": [
    "test_data['predicted_category_id'] = predicts_final\n",
    "test_data"
   ],
   "metadata": {
    "colab": {
     "base_uri": "https://localhost:8080/",
     "height": 424
    },
    "id": "PSPKiPZ8Yb3-",
    "outputId": "78094972-7a3b-4337-ed4d-117ed75b297c"
   },
   "execution_count": 82,
   "outputs": [
    {
     "output_type": "execute_result",
     "data": {
      "text/plain": [
       "            id                                        description  predict  \\\n",
       "0      1070974   браслет из натуральных камней lotus описания нет    11574   \n",
       "1       450413  fusion life - шампунь для сухих и окрашенных в...    11878   \n",
       "2       126857  микрофон для пк jack 3,5мм всенаправленный уни...    13299   \n",
       "3      1577569      серьги гвоздики сердце серьги гвоздики сердце    13061   \n",
       "4       869328  чёрно-красная стильная брошь \"тюльпаны\" из акр...    12813   \n",
       "...        ...                                                ...      ...   \n",
       "70859   967535  носки с мехом куницы авокадо разноцветные пухо...    13143   \n",
       "70860  1488636  эфирное масло сосны, 10 мл, от кедрмаркет масл...     2674   \n",
       "70861   827510  компект (футболка+шорты) отличный комплект. уд...    14171   \n",
       "70862   529244        купальный костюм mark formelle описания нет    13069   \n",
       "70863  1400885                       шапка \"горошек\" описания нет    14034   \n",
       "\n",
       "       predicted_category_id  \n",
       "0                      11574  \n",
       "1                      11878  \n",
       "2                      13299  \n",
       "3                      13061  \n",
       "4                      12813  \n",
       "...                      ...  \n",
       "70859                  13143  \n",
       "70860                   2674  \n",
       "70861                  14171  \n",
       "70862                  13069  \n",
       "70863                  14034  \n",
       "\n",
       "[70864 rows x 4 columns]"
      ],
      "text/html": [
       "\n",
       "  <div id=\"df-f695df45-9e6b-49ca-9659-b2c66472a65a\">\n",
       "    <div class=\"colab-df-container\">\n",
       "      <div>\n",
       "<style scoped>\n",
       "    .dataframe tbody tr th:only-of-type {\n",
       "        vertical-align: middle;\n",
       "    }\n",
       "\n",
       "    .dataframe tbody tr th {\n",
       "        vertical-align: top;\n",
       "    }\n",
       "\n",
       "    .dataframe thead th {\n",
       "        text-align: right;\n",
       "    }\n",
       "</style>\n",
       "<table border=\"1\" class=\"dataframe\">\n",
       "  <thead>\n",
       "    <tr style=\"text-align: right;\">\n",
       "      <th></th>\n",
       "      <th>id</th>\n",
       "      <th>description</th>\n",
       "      <th>predict</th>\n",
       "      <th>predicted_category_id</th>\n",
       "    </tr>\n",
       "  </thead>\n",
       "  <tbody>\n",
       "    <tr>\n",
       "      <th>0</th>\n",
       "      <td>1070974</td>\n",
       "      <td>браслет из натуральных камней lotus описания нет</td>\n",
       "      <td>11574</td>\n",
       "      <td>11574</td>\n",
       "    </tr>\n",
       "    <tr>\n",
       "      <th>1</th>\n",
       "      <td>450413</td>\n",
       "      <td>fusion life - шампунь для сухих и окрашенных в...</td>\n",
       "      <td>11878</td>\n",
       "      <td>11878</td>\n",
       "    </tr>\n",
       "    <tr>\n",
       "      <th>2</th>\n",
       "      <td>126857</td>\n",
       "      <td>микрофон для пк jack 3,5мм всенаправленный уни...</td>\n",
       "      <td>13299</td>\n",
       "      <td>13299</td>\n",
       "    </tr>\n",
       "    <tr>\n",
       "      <th>3</th>\n",
       "      <td>1577569</td>\n",
       "      <td>серьги гвоздики сердце серьги гвоздики сердце</td>\n",
       "      <td>13061</td>\n",
       "      <td>13061</td>\n",
       "    </tr>\n",
       "    <tr>\n",
       "      <th>4</th>\n",
       "      <td>869328</td>\n",
       "      <td>чёрно-красная стильная брошь \"тюльпаны\" из акр...</td>\n",
       "      <td>12813</td>\n",
       "      <td>12813</td>\n",
       "    </tr>\n",
       "    <tr>\n",
       "      <th>...</th>\n",
       "      <td>...</td>\n",
       "      <td>...</td>\n",
       "      <td>...</td>\n",
       "      <td>...</td>\n",
       "    </tr>\n",
       "    <tr>\n",
       "      <th>70859</th>\n",
       "      <td>967535</td>\n",
       "      <td>носки с мехом куницы авокадо разноцветные пухо...</td>\n",
       "      <td>13143</td>\n",
       "      <td>13143</td>\n",
       "    </tr>\n",
       "    <tr>\n",
       "      <th>70860</th>\n",
       "      <td>1488636</td>\n",
       "      <td>эфирное масло сосны, 10 мл, от кедрмаркет масл...</td>\n",
       "      <td>2674</td>\n",
       "      <td>2674</td>\n",
       "    </tr>\n",
       "    <tr>\n",
       "      <th>70861</th>\n",
       "      <td>827510</td>\n",
       "      <td>компект (футболка+шорты) отличный комплект. уд...</td>\n",
       "      <td>14171</td>\n",
       "      <td>14171</td>\n",
       "    </tr>\n",
       "    <tr>\n",
       "      <th>70862</th>\n",
       "      <td>529244</td>\n",
       "      <td>купальный костюм mark formelle описания нет</td>\n",
       "      <td>13069</td>\n",
       "      <td>13069</td>\n",
       "    </tr>\n",
       "    <tr>\n",
       "      <th>70863</th>\n",
       "      <td>1400885</td>\n",
       "      <td>шапка \"горошек\" описания нет</td>\n",
       "      <td>14034</td>\n",
       "      <td>14034</td>\n",
       "    </tr>\n",
       "  </tbody>\n",
       "</table>\n",
       "<p>70864 rows × 4 columns</p>\n",
       "</div>\n",
       "      <button class=\"colab-df-convert\" onclick=\"convertToInteractive('df-f695df45-9e6b-49ca-9659-b2c66472a65a')\"\n",
       "              title=\"Convert this dataframe to an interactive table.\"\n",
       "              style=\"display:none;\">\n",
       "        \n",
       "  <svg xmlns=\"http://www.w3.org/2000/svg\" height=\"24px\"viewBox=\"0 0 24 24\"\n",
       "       width=\"24px\">\n",
       "    <path d=\"M0 0h24v24H0V0z\" fill=\"none\"/>\n",
       "    <path d=\"M18.56 5.44l.94 2.06.94-2.06 2.06-.94-2.06-.94-.94-2.06-.94 2.06-2.06.94zm-11 1L8.5 8.5l.94-2.06 2.06-.94-2.06-.94L8.5 2.5l-.94 2.06-2.06.94zm10 10l.94 2.06.94-2.06 2.06-.94-2.06-.94-.94-2.06-.94 2.06-2.06.94z\"/><path d=\"M17.41 7.96l-1.37-1.37c-.4-.4-.92-.59-1.43-.59-.52 0-1.04.2-1.43.59L10.3 9.45l-7.72 7.72c-.78.78-.78 2.05 0 2.83L4 21.41c.39.39.9.59 1.41.59.51 0 1.02-.2 1.41-.59l7.78-7.78 2.81-2.81c.8-.78.8-2.07 0-2.86zM5.41 20L4 18.59l7.72-7.72 1.47 1.35L5.41 20z\"/>\n",
       "  </svg>\n",
       "      </button>\n",
       "      \n",
       "  <style>\n",
       "    .colab-df-container {\n",
       "      display:flex;\n",
       "      flex-wrap:wrap;\n",
       "      gap: 12px;\n",
       "    }\n",
       "\n",
       "    .colab-df-convert {\n",
       "      background-color: #E8F0FE;\n",
       "      border: none;\n",
       "      border-radius: 50%;\n",
       "      cursor: pointer;\n",
       "      display: none;\n",
       "      fill: #1967D2;\n",
       "      height: 32px;\n",
       "      padding: 0 0 0 0;\n",
       "      width: 32px;\n",
       "    }\n",
       "\n",
       "    .colab-df-convert:hover {\n",
       "      background-color: #E2EBFA;\n",
       "      box-shadow: 0px 1px 2px rgba(60, 64, 67, 0.3), 0px 1px 3px 1px rgba(60, 64, 67, 0.15);\n",
       "      fill: #174EA6;\n",
       "    }\n",
       "\n",
       "    [theme=dark] .colab-df-convert {\n",
       "      background-color: #3B4455;\n",
       "      fill: #D2E3FC;\n",
       "    }\n",
       "\n",
       "    [theme=dark] .colab-df-convert:hover {\n",
       "      background-color: #434B5C;\n",
       "      box-shadow: 0px 1px 3px 1px rgba(0, 0, 0, 0.15);\n",
       "      filter: drop-shadow(0px 1px 2px rgba(0, 0, 0, 0.3));\n",
       "      fill: #FFFFFF;\n",
       "    }\n",
       "  </style>\n",
       "\n",
       "      <script>\n",
       "        const buttonEl =\n",
       "          document.querySelector('#df-f695df45-9e6b-49ca-9659-b2c66472a65a button.colab-df-convert');\n",
       "        buttonEl.style.display =\n",
       "          google.colab.kernel.accessAllowed ? 'block' : 'none';\n",
       "\n",
       "        async function convertToInteractive(key) {\n",
       "          const element = document.querySelector('#df-f695df45-9e6b-49ca-9659-b2c66472a65a');\n",
       "          const dataTable =\n",
       "            await google.colab.kernel.invokeFunction('convertToInteractive',\n",
       "                                                     [key], {});\n",
       "          if (!dataTable) return;\n",
       "\n",
       "          const docLinkHtml = 'Like what you see? Visit the ' +\n",
       "            '<a target=\"_blank\" href=https://colab.research.google.com/notebooks/data_table.ipynb>data table notebook</a>'\n",
       "            + ' to learn more about interactive tables.';\n",
       "          element.innerHTML = '';\n",
       "          dataTable['output_type'] = 'display_data';\n",
       "          await google.colab.output.renderOutput(dataTable, element);\n",
       "          const docLink = document.createElement('div');\n",
       "          docLink.innerHTML = docLinkHtml;\n",
       "          element.appendChild(docLink);\n",
       "        }\n",
       "      </script>\n",
       "    </div>\n",
       "  </div>\n",
       "  "
      ]
     },
     "metadata": {},
     "execution_count": 82
    }
   ]
  },
  {
   "cell_type": "code",
   "source": [
    "submission = test_data[['id', 'predicted_category_id']]\n",
    "submission"
   ],
   "metadata": {
    "colab": {
     "base_uri": "https://localhost:8080/",
     "height": 424
    },
    "id": "AweBkiMXYnC8",
    "outputId": "bd1387de-719a-4920-c0ed-f246093c0cc5"
   },
   "execution_count": 83,
   "outputs": [
    {
     "output_type": "execute_result",
     "data": {
      "text/plain": [
       "            id  predicted_category_id\n",
       "0      1070974                  11574\n",
       "1       450413                  11878\n",
       "2       126857                  13299\n",
       "3      1577569                  13061\n",
       "4       869328                  12813\n",
       "...        ...                    ...\n",
       "70859   967535                  13143\n",
       "70860  1488636                   2674\n",
       "70861   827510                  14171\n",
       "70862   529244                  13069\n",
       "70863  1400885                  14034\n",
       "\n",
       "[70864 rows x 2 columns]"
      ],
      "text/html": [
       "\n",
       "  <div id=\"df-c78edb83-4c72-445b-9674-cba37fed1205\">\n",
       "    <div class=\"colab-df-container\">\n",
       "      <div>\n",
       "<style scoped>\n",
       "    .dataframe tbody tr th:only-of-type {\n",
       "        vertical-align: middle;\n",
       "    }\n",
       "\n",
       "    .dataframe tbody tr th {\n",
       "        vertical-align: top;\n",
       "    }\n",
       "\n",
       "    .dataframe thead th {\n",
       "        text-align: right;\n",
       "    }\n",
       "</style>\n",
       "<table border=\"1\" class=\"dataframe\">\n",
       "  <thead>\n",
       "    <tr style=\"text-align: right;\">\n",
       "      <th></th>\n",
       "      <th>id</th>\n",
       "      <th>predicted_category_id</th>\n",
       "    </tr>\n",
       "  </thead>\n",
       "  <tbody>\n",
       "    <tr>\n",
       "      <th>0</th>\n",
       "      <td>1070974</td>\n",
       "      <td>11574</td>\n",
       "    </tr>\n",
       "    <tr>\n",
       "      <th>1</th>\n",
       "      <td>450413</td>\n",
       "      <td>11878</td>\n",
       "    </tr>\n",
       "    <tr>\n",
       "      <th>2</th>\n",
       "      <td>126857</td>\n",
       "      <td>13299</td>\n",
       "    </tr>\n",
       "    <tr>\n",
       "      <th>3</th>\n",
       "      <td>1577569</td>\n",
       "      <td>13061</td>\n",
       "    </tr>\n",
       "    <tr>\n",
       "      <th>4</th>\n",
       "      <td>869328</td>\n",
       "      <td>12813</td>\n",
       "    </tr>\n",
       "    <tr>\n",
       "      <th>...</th>\n",
       "      <td>...</td>\n",
       "      <td>...</td>\n",
       "    </tr>\n",
       "    <tr>\n",
       "      <th>70859</th>\n",
       "      <td>967535</td>\n",
       "      <td>13143</td>\n",
       "    </tr>\n",
       "    <tr>\n",
       "      <th>70860</th>\n",
       "      <td>1488636</td>\n",
       "      <td>2674</td>\n",
       "    </tr>\n",
       "    <tr>\n",
       "      <th>70861</th>\n",
       "      <td>827510</td>\n",
       "      <td>14171</td>\n",
       "    </tr>\n",
       "    <tr>\n",
       "      <th>70862</th>\n",
       "      <td>529244</td>\n",
       "      <td>13069</td>\n",
       "    </tr>\n",
       "    <tr>\n",
       "      <th>70863</th>\n",
       "      <td>1400885</td>\n",
       "      <td>14034</td>\n",
       "    </tr>\n",
       "  </tbody>\n",
       "</table>\n",
       "<p>70864 rows × 2 columns</p>\n",
       "</div>\n",
       "      <button class=\"colab-df-convert\" onclick=\"convertToInteractive('df-c78edb83-4c72-445b-9674-cba37fed1205')\"\n",
       "              title=\"Convert this dataframe to an interactive table.\"\n",
       "              style=\"display:none;\">\n",
       "        \n",
       "  <svg xmlns=\"http://www.w3.org/2000/svg\" height=\"24px\"viewBox=\"0 0 24 24\"\n",
       "       width=\"24px\">\n",
       "    <path d=\"M0 0h24v24H0V0z\" fill=\"none\"/>\n",
       "    <path d=\"M18.56 5.44l.94 2.06.94-2.06 2.06-.94-2.06-.94-.94-2.06-.94 2.06-2.06.94zm-11 1L8.5 8.5l.94-2.06 2.06-.94-2.06-.94L8.5 2.5l-.94 2.06-2.06.94zm10 10l.94 2.06.94-2.06 2.06-.94-2.06-.94-.94-2.06-.94 2.06-2.06.94z\"/><path d=\"M17.41 7.96l-1.37-1.37c-.4-.4-.92-.59-1.43-.59-.52 0-1.04.2-1.43.59L10.3 9.45l-7.72 7.72c-.78.78-.78 2.05 0 2.83L4 21.41c.39.39.9.59 1.41.59.51 0 1.02-.2 1.41-.59l7.78-7.78 2.81-2.81c.8-.78.8-2.07 0-2.86zM5.41 20L4 18.59l7.72-7.72 1.47 1.35L5.41 20z\"/>\n",
       "  </svg>\n",
       "      </button>\n",
       "      \n",
       "  <style>\n",
       "    .colab-df-container {\n",
       "      display:flex;\n",
       "      flex-wrap:wrap;\n",
       "      gap: 12px;\n",
       "    }\n",
       "\n",
       "    .colab-df-convert {\n",
       "      background-color: #E8F0FE;\n",
       "      border: none;\n",
       "      border-radius: 50%;\n",
       "      cursor: pointer;\n",
       "      display: none;\n",
       "      fill: #1967D2;\n",
       "      height: 32px;\n",
       "      padding: 0 0 0 0;\n",
       "      width: 32px;\n",
       "    }\n",
       "\n",
       "    .colab-df-convert:hover {\n",
       "      background-color: #E2EBFA;\n",
       "      box-shadow: 0px 1px 2px rgba(60, 64, 67, 0.3), 0px 1px 3px 1px rgba(60, 64, 67, 0.15);\n",
       "      fill: #174EA6;\n",
       "    }\n",
       "\n",
       "    [theme=dark] .colab-df-convert {\n",
       "      background-color: #3B4455;\n",
       "      fill: #D2E3FC;\n",
       "    }\n",
       "\n",
       "    [theme=dark] .colab-df-convert:hover {\n",
       "      background-color: #434B5C;\n",
       "      box-shadow: 0px 1px 3px 1px rgba(0, 0, 0, 0.15);\n",
       "      filter: drop-shadow(0px 1px 2px rgba(0, 0, 0, 0.3));\n",
       "      fill: #FFFFFF;\n",
       "    }\n",
       "  </style>\n",
       "\n",
       "      <script>\n",
       "        const buttonEl =\n",
       "          document.querySelector('#df-c78edb83-4c72-445b-9674-cba37fed1205 button.colab-df-convert');\n",
       "        buttonEl.style.display =\n",
       "          google.colab.kernel.accessAllowed ? 'block' : 'none';\n",
       "\n",
       "        async function convertToInteractive(key) {\n",
       "          const element = document.querySelector('#df-c78edb83-4c72-445b-9674-cba37fed1205');\n",
       "          const dataTable =\n",
       "            await google.colab.kernel.invokeFunction('convertToInteractive',\n",
       "                                                     [key], {});\n",
       "          if (!dataTable) return;\n",
       "\n",
       "          const docLinkHtml = 'Like what you see? Visit the ' +\n",
       "            '<a target=\"_blank\" href=https://colab.research.google.com/notebooks/data_table.ipynb>data table notebook</a>'\n",
       "            + ' to learn more about interactive tables.';\n",
       "          element.innerHTML = '';\n",
       "          dataTable['output_type'] = 'display_data';\n",
       "          await google.colab.output.renderOutput(dataTable, element);\n",
       "          const docLink = document.createElement('div');\n",
       "          docLink.innerHTML = docLinkHtml;\n",
       "          element.appendChild(docLink);\n",
       "        }\n",
       "      </script>\n",
       "    </div>\n",
       "  </div>\n",
       "  "
      ]
     },
     "metadata": {},
     "execution_count": 83
    }
   ]
  },
  {
   "cell_type": "code",
   "source": [
    "submission.to_parquet(data_dir / 'result.parquet')"
   ],
   "metadata": {
    "id": "JydYOl73Y_QP"
   },
   "execution_count": 86,
   "outputs": []
  },
  {
   "cell_type": "code",
   "source": [],
   "metadata": {
    "id": "UyBcfm3AZYeb"
   },
   "execution_count": null,
   "outputs": []
  }
 ]
}
